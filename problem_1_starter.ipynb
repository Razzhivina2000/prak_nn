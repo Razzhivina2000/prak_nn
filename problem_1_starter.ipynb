{
 "cells": [
  {
   "cell_type": "markdown",
   "metadata": {
    "id": "atqZGIIyNSBb"
   },
   "source": [
    "#**Практическое задание №1**"
   ]
  },
  {
   "cell_type": "markdown",
   "metadata": {
    "id": "ga5g3lUhNNBy"
   },
   "source": [
    "Установка необходимых пакетов:"
   ]
  },
  {
   "cell_type": "code",
   "execution_count": 1,
   "metadata": {
    "id": "TGBk36LpukIu"
   },
   "outputs": [],
   "source": [
    "!pip install -q libtiff\n",
    "!pip install -q tqdm"
   ]
  },
  {
   "cell_type": "markdown",
   "metadata": {
    "id": "2vQDLyHEO1Ux"
   },
   "source": [
    "Монтирование Вашего Google Drive к текущему окружению:"
   ]
  },
  {
   "cell_type": "code",
   "execution_count": 2,
   "metadata": {
    "colab": {
     "base_uri": "https://localhost:8080/"
    },
    "id": "5G5KkA1Nu5M9",
    "outputId": "182e99d6-3004-44f1-c4e7-c967beed19e3"
   },
   "outputs": [
    {
     "name": "stdout",
     "output_type": "stream",
     "text": [
      "Mounted at /content/drive\n"
     ]
    }
   ],
   "source": [
    "from google.colab import drive\n",
    "drive.mount('/content/drive', force_remount=True)"
   ]
  },
  {
   "cell_type": "markdown",
   "metadata": {
    "id": "E6-mtI6W1y1b"
   },
   "source": [
    "В переменную PROJECT_DIR необходимо прописать путь к директории на Google Drive, в которую Вы загрузили zip архивы с предоставленными наборами данных."
   ]
  },
  {
   "cell_type": "code",
   "execution_count": 3,
   "metadata": {
    "id": "IdvM-BUTvfSV"
   },
   "outputs": [],
   "source": [
    "# todo\n",
    "PROJECT_DIR = 'nn/'"
   ]
  },
  {
   "cell_type": "markdown",
   "metadata": {
    "id": "0Num5lHV6912"
   },
   "source": [
    "Константы, которые пригодятся в коде далее:"
   ]
  },
  {
   "cell_type": "code",
   "execution_count": 4,
   "metadata": {
    "id": "ab2yCwDm7Fqb"
   },
   "outputs": [],
   "source": [
    "EVALUATE_ONLY = True\n",
    "TEST_ON_LARGE_DATASET = True\n",
    "TISSUE_CLASSES = ('ADI', 'BACK', 'DEB', 'LYM', 'MUC', 'MUS', 'NORM', 'STR', 'TUM')"
   ]
  },
  {
   "cell_type": "markdown",
   "metadata": {
    "id": "fgY-ux5qOI0k"
   },
   "source": [
    "Импорт необходимых зависимостей:"
   ]
  },
  {
   "cell_type": "code",
   "execution_count": 5,
   "metadata": {
    "id": "kLHQhqiSIyvK"
   },
   "outputs": [],
   "source": [
    "from pathlib import Path\n",
    "from libtiff import TIFF\n",
    "import numpy as np\n",
    "from typing import List\n",
    "from tqdm.notebook import tqdm\n",
    "from time import sleep\n",
    "from PIL import Image\n",
    "import IPython.display\n",
    "from sklearn.metrics import balanced_accuracy_score\n",
    "import tensorflow as tf\n",
    "from sklearn.model_selection import train_test_split\n",
    "import matplotlib.pyplot as plt\n",
    "from keras.layers.normalization import BatchNormalization"
   ]
  },
  {
   "cell_type": "markdown",
   "metadata": {
    "id": "zKLI3lUyMYO9"
   },
   "source": [
    "---\n",
    "### Класс Dataset\n",
    "\n",
    "Предназначен для работы с наборами данных, хранящихся на Google Drive, обеспечивает чтение изображений и соответствующих меток, а также формирование пакетов (батчей)."
   ]
  },
  {
   "cell_type": "code",
   "execution_count": 6,
   "metadata": {
    "id": "8N169efsw1ej"
   },
   "outputs": [],
   "source": [
    "class Dataset:\n",
    "\n",
    "    def __init__(self, name, gdrive_dir):\n",
    "        self.name = name\n",
    "        self.is_loaded = False\n",
    "        p = Path(\"/content/drive/MyDrive/\" + gdrive_dir + name + '.npz') \n",
    "        if p.exists():\n",
    "            print(f'Loading dataset {self.name} from npz.')\n",
    "            np_obj = np.load(str(p))\n",
    "            self.images = np_obj['data']\n",
    "            self.labels = np_obj['labels']\n",
    "            self.n_files = self.images.shape[0]\n",
    "            self.is_loaded = True\n",
    "            print(f'Done. Dataset {name} consists of {self.n_files} images.')\n",
    "\n",
    "    def image(self, i):\n",
    "        # read i-th image in dataset and return it as numpy array\n",
    "        if self.is_loaded:\n",
    "            return self.images[i, :, :, :]\n",
    "\n",
    "    def images_seq(self, n=None):\n",
    "        # sequential access to images inside dataset (is needed for testing)\n",
    "        for i in range(self.n_files if not n else n):\n",
    "            yield self.image(i)\n",
    "\n",
    "    def random_image_with_label(self):\n",
    "        # get random image with label from dataset\n",
    "        i = np.random.randint(self.n_files)\n",
    "        return self.image(i), self.labels[i]\n",
    "  \n",
    "    def random_batch_with_labels(self, n):\n",
    "        # create random batch of images with labels (is needed for training)\n",
    "        indices = np.random.choice(self.n_files, n)\n",
    "        imgs = []\n",
    "        for i in indices:\n",
    "            img = self.image(i)\n",
    "            imgs.append(self.image(i))\n",
    "        logits = np.array([self.labels[i] for i in indices])\n",
    "        return np.stack(imgs), logits\n",
    "\n",
    "    def image_with_label(self, i: int):\n",
    "        # return i-th image with label from dataset\n",
    "        return self.image(i), self.labels[i]"
   ]
  },
  {
   "cell_type": "markdown",
   "metadata": {
    "id": "M-LvGqeHYgus"
   },
   "source": [
    "### Пример использвания класса Dataset\n",
    "Загрузим обучающий набор данных, получим произвольное изображение с меткой. После чего визуализируем изображение, выведем метку. В будущем, этот кусок кода можно закомментировать или убрать."
   ]
  },
  {
   "cell_type": "code",
   "execution_count": 7,
   "metadata": {
    "colab": {
     "base_uri": "https://localhost:8080/",
     "height": 326
    },
    "id": "HhObWEjGJ1um",
    "outputId": "0bc6ef74-6f86-4717-c982-5dce30825b25"
   },
   "outputs": [
    {
     "name": "stdout",
     "output_type": "stream",
     "text": [
      "Loading dataset train_tiny from npz.\n",
      "Done. Dataset train_tiny consists of 900 images.\n",
      "\n",
      "Got numpy array of shape (224, 224, 3), and label with code 3.\n",
      "Label code corresponds to LYM class.\n"
     ]
    },
    {
     "data": {
      "image/png": "[encoded data removed]",
      "text/plain": [
       "<PIL.Image.Image image mode=RGB size=224x224 at 0x7F1E5C091C90>"
      ]
     },
     "metadata": {
      "tags": []
     },
     "output_type": "display_data"
    }
   ],
   "source": [
    "d_train_tiny = Dataset('train_tiny', PROJECT_DIR)\n",
    "\n",
    "img, lbl = d_train_tiny.random_image_with_label()\n",
    "print()\n",
    "print(f'Got numpy array of shape {img.shape}, and label with code {lbl}.')\n",
    "print(f'Label code corresponds to {TISSUE_CLASSES[lbl]} class.')\n",
    "\n",
    "pil_img = Image.fromarray(img)\n",
    "IPython.display.display(pil_img)"
   ]
  },
  {
   "cell_type": "markdown",
   "metadata": {
    "id": "qaBXXCWeVLYb"
   },
   "source": [
    "---\n",
    "### Класс Metrics\n",
    "\n",
    "Реализует метрики точности, используемые для оценивания модели:\n",
    "1. точность,\n",
    "2. сбалансированную точность."
   ]
  },
  {
   "cell_type": "code",
   "execution_count": 8,
   "metadata": {
    "id": "5unQ7azTinCZ"
   },
   "outputs": [],
   "source": [
    "class Metrics:\n",
    "\n",
    "    @staticmethod\n",
    "    def accuracy(gt: List[int], pred: List[int]):\n",
    "        assert len(gt) == len(pred), 'gt and prediction should be of equal length'\n",
    "        return sum(int(i[0] == i[1]) for i in zip(gt, pred)) / len(gt)\n",
    "\n",
    "    @staticmethod\n",
    "    def accuracy_balanced(gt: List[int], pred: List[int]):\n",
    "        return balanced_accuracy_score(gt, pred)\n",
    "\n",
    "    @staticmethod\n",
    "    def print_all(gt: List[int], pred: List[int], info: str):\n",
    "        print(f'metrics for {info}:')\n",
    "        print('\\t accuracy {:.4f}:'.format(Metrics.accuracy(gt, pred)))\n",
    "        print('\\t balanced accuracy {:.4f}:'.format(Metrics.accuracy_balanced(gt, pred)))"
   ]
  },
  {
   "cell_type": "markdown",
   "metadata": {
    "id": "N1AHzTJVGU5k"
   },
   "source": [
    "---\n",
    "### Класс Model\n",
    "\n",
    "Класс, хранящий в себе всю информацию о модели.\n",
    "\n",
    "Вам необходимо реализовать методы save, load для сохранения и заргрузки модели. Особенно актуально это будет во время тестирования на дополнительных наборах данных.\n",
    "\n",
    "> *Пожалуйста, убедитесь, что сохранение и загрузка модели работает корректно. Для этого обучите модель, протестируйте, сохраните ее в файл, перезапустите среду выполнения, загрузите обученную модель из файла, вновь протестируйте ее на тестовой выборке и убедитесь в том, что получаемые метрики совпадают с полученными для тестовой выбрки ранее.*\n",
    "\n",
    "\n",
    "Также, Вы можете реализовать дополнительные функции, такие как:\n",
    "1. валидацию модели на части обучающей выборки;\n",
    "2. использование кроссвалидации;\n",
    "3. автоматическое сохранение модели при обучении;\n",
    "4. загрузку модели с какой-то конкретной итерации обучения (если используется итеративное обучение);\n",
    "5. вывод различных показателей в процессе обучения (например, значение функции потерь на каждой эпохе);\n",
    "6. построение графиков, визуализирующих процесс обучения (например, график зависимости функции потерь от номера эпохи обучения);\n",
    "7. автоматическое тестирование на тестовом наборе/наборах данных после каждой эпохи обучения (при использовании итеративного обучения);\n",
    "8. автоматический выбор гиперпараметров модели во время обучения;\n",
    "9. сохранение и визуализацию результатов тестирования;\n",
    "10. Использование аугментации и других способов синтетического расширения набора данных (дополнительным плюсом будет обоснование необходимости и обоснование выбора конкретных типов аугментации)\n",
    "11. и т.д.\n",
    "\n",
    "Полный список опций и дополнений приведен в презентации с описанием задания.\n",
    "\n",
    "При реализации дополнительных функций допускается добавление параметров в существующие методы и добавление новых методов в класс модели."
   ]
  },
  {
   "cell_type": "code",
   "execution_count": 12,
   "metadata": {
    "id": "0pkMiB6mJ7JQ"
   },
   "outputs": [],
   "source": [
    "class Model:\n",
    "\n",
    "    def __init__(self):\n",
    "        self.classifier = tf.keras.models.Sequential([\n",
    "          tf.keras.layers.Conv2D(filters=64, kernel_size=3, padding='same', activation='relu', input_shape=(224, 224, 3)),\n",
    "          tf.keras.layers.Conv2D(filters=64, kernel_size=3, padding='same', activation='relu'),\n",
    "          tf.keras.layers.MaxPooling2D(pool_size=(4,4)),\n",
    "          tf.keras.layers.Dropout(0.1),\n",
    "          tf.keras.layers.Conv2D(filters=64, kernel_size=3, padding='same', activation='relu'),\n",
    "          tf.keras.layers.Conv2D(filters=64, kernel_size=3, padding='same', activation='relu'),\n",
    "          tf.keras.layers.MaxPooling2D(pool_size=(4,4)),\n",
    "          tf.keras.layers.Dropout(0.1),\n",
    "          tf.keras.layers.Conv2D(filters=128, kernel_size=3, padding='same', activation='relu'),\n",
    "          tf.keras.layers.MaxPooling2D(pool_size=(2,2)),\n",
    "          tf.keras.layers.Dropout(0.1),\n",
    "          tf.keras.layers.Conv2D(filters=128, kernel_size=3, padding='same', activation='relu'),\n",
    "          tf.keras.layers.MaxPooling2D(pool_size=(2,2)),\n",
    "          tf.keras.layers.Flatten(),\n",
    "          tf.keras.layers.Dropout(0.1),\n",
    "          tf.keras.layers.Dense(1024, activation='relu'),\n",
    "          tf.keras.layers.Dropout(0.1),\n",
    "          tf.keras.layers.Dense(9, activation='softmax')\n",
    "        ])\n",
    "        pass\n",
    "\n",
    "    def save(self, name: str):\n",
    "        # save model to PROJECT_DIR folder on gdrive with name 'name'\n",
    "        self.classifier.save(\"/content/drive/MyDrive/\" + PROJECT_DIR + name + '.h5')\n",
    "\n",
    "    def load(self, name: str):\n",
    "        # load model with name 'name' from PROJECT_DIR folder on gdrive\n",
    "        p = Path(\"/content/drive/MyDrive/\" + PROJECT_DIR + name + '.h5') \n",
    "        if p.exists():\n",
    "          print(f'Loading model {name}')\n",
    "          self.classifier = tf.keras.models.load_model(\"/content/drive/MyDrive/\" + PROJECT_DIR + name + '.h5')\n",
    "\n",
    "    def train(self, dataset: Dataset):\n",
    "        # you can add some plots for better visualization,\n",
    "        # you can add model autosaving during training,\n",
    "        # etc.\n",
    "        print(f'training started')\n",
    "        self.classifier.compile(optimizer='adam',\n",
    "              loss='sparse_categorical_crossentropy',\n",
    "              metrics=['accuracy'])\n",
    "        #LBL1\n",
    "        x_train, x_test, y_train, y_test = train_test_split(dataset.images, dataset.labels, test_size=0.1)\n",
    "        self.history = self.classifier.fit(x_train, y_train, epochs=50, batch_size=64, validation_data=(x_test, y_test))\n",
    "        sleep(2)\n",
    "        print(f'training done')\n",
    "\n",
    "    def visual(self):\n",
    "        #LBL2\n",
    "        plt.plot(self.history.history['accuracy'])\n",
    "        plt.plot(self.history.history['val_accuracy'])\n",
    "        plt.title('model accuracy')\n",
    "        plt.ylabel('accuracy')\n",
    "        plt.xlabel('epoch')\n",
    "        plt.legend(['train', 'validation'], loc='upper left')\n",
    "        plt.show()\n",
    "\n",
    "        plt.plot(self.history.history['loss'])\n",
    "        plt.plot(self.history.history['val_loss'])\n",
    "        plt.title('model loss')\n",
    "        plt.ylabel('loss')\n",
    "        plt.xlabel('epoch')\n",
    "        plt.legend(['train', 'validation'], loc='upper left')\n",
    "        plt.show()\n",
    "\n",
    "    def show_history(self):\n",
    "        #LBL3\n",
    "        return self.history.history\n",
    "\n",
    "    def test_on_dataset(self, dataset: Dataset, limit=None):\n",
    "        # you can upgrade this code if you want to speed up testing using batches\n",
    "        predictions = []\n",
    "        n = dataset.n_files if not limit else int(dataset.n_files * limit)\n",
    "        for img in tqdm(dataset.images_seq(n), total=n):\n",
    "            predictions.append(self.test_on_image(img))\n",
    "        return predictions\n",
    "\n",
    "    def test_on_image(self, img: np.ndarray):\n",
    "        prediction = self.classifier.predict(img[np.newaxis, :]).argmax()\n",
    "        return prediction\n",
    "\n",
    "\n"
   ]
  },
  {
   "cell_type": "markdown",
   "metadata": {
    "id": "ZMpTB6lMr00A"
   },
   "source": [
    "---\n",
    "### Классификация изображений\n",
    "\n",
    "Используя введенные выше классы можем перейти уже непосредственно к обучению модели классификации изображений. Пример общего пайплайна решения задачи приведен ниже. Вы можете его расширять и улучшать. В данном примере используются наборы данных 'train_small' и 'test_small'."
   ]
  },
  {
   "cell_type": "code",
   "execution_count": 10,
   "metadata": {
    "colab": {
     "base_uri": "https://localhost:8080/"
    },
    "id": "5cTOuZD01Up6",
    "outputId": "84496ad6-e49c-4cda-8714-09e5de6ced2c"
   },
   "outputs": [
    {
     "name": "stdout",
     "output_type": "stream",
     "text": [
      "Loading dataset train from npz.\n",
      "Done. Dataset train consists of 18000 images.\n",
      "Loading dataset test from npz.\n",
      "Done. Dataset test consists of 4500 images.\n"
     ]
    }
   ],
   "source": [
    "d_train = Dataset('train', PROJECT_DIR)\n",
    "d_test = Dataset('test', PROJECT_DIR)"
   ]
  },
  {
   "cell_type": "code",
   "execution_count": 13,
   "metadata": {
    "colab": {
     "base_uri": "https://localhost:8080/"
    },
    "id": "BmSbU_yh8kbD",
    "outputId": "fcc3d17e-fdc5-4a1e-9aee-575008b1d6d2",
    "scrolled": false
   },
   "outputs": [
    {
     "name": "stdout",
     "output_type": "stream",
     "text": [
      "training started\n",
      "Epoch 1/50\n",
      "254/254 [==============================] - 68s 267ms/step - loss: 4.4750 - accuracy: 0.2725 - val_loss: 1.0388 - val_accuracy: 0.5822\n",
      "Epoch 2/50\n",
      "254/254 [==============================] - 67s 264ms/step - loss: 1.1047 - accuracy: 0.5597 - val_loss: 0.9648 - val_accuracy: 0.6333\n",
      "Epoch 3/50\n",
      "254/254 [==============================] - 67s 265ms/step - loss: 0.8921 - accuracy: 0.6616 - val_loss: 0.8021 - val_accuracy: 0.6889\n",
      "Epoch 4/50\n",
      "254/254 [==============================] - 67s 265ms/step - loss: 0.6274 - accuracy: 0.7758 - val_loss: 0.5532 - val_accuracy: 0.8017\n",
      "Epoch 5/50\n",
      "254/254 [==============================] - 67s 265ms/step - loss: 0.4264 - accuracy: 0.8551 - val_loss: 0.5103 - val_accuracy: 0.8261\n",
      "Epoch 6/50\n",
      "254/254 [==============================] - 67s 264ms/step - loss: 0.3832 - accuracy: 0.8720 - val_loss: 0.3623 - val_accuracy: 0.8761\n",
      "Epoch 7/50\n",
      "254/254 [==============================] - 67s 264ms/step - loss: 0.3161 - accuracy: 0.8907 - val_loss: 0.2728 - val_accuracy: 0.9067\n",
      "Epoch 8/50\n",
      "254/254 [==============================] - 67s 264ms/step - loss: 0.2800 - accuracy: 0.9001 - val_loss: 0.2878 - val_accuracy: 0.9067\n",
      "Epoch 9/50\n",
      "254/254 [==============================] - 67s 263ms/step - loss: 0.2282 - accuracy: 0.9231 - val_loss: 0.4687 - val_accuracy: 0.8339\n",
      "Epoch 10/50\n",
      "254/254 [==============================] - 67s 263ms/step - loss: 0.3757 - accuracy: 0.8691 - val_loss: 0.2153 - val_accuracy: 0.9272\n",
      "Epoch 11/50\n",
      "254/254 [==============================] - 67s 263ms/step - loss: 0.1731 - accuracy: 0.9411 - val_loss: 0.2527 - val_accuracy: 0.9117\n",
      "Epoch 12/50\n",
      "254/254 [==============================] - 67s 263ms/step - loss: 0.1945 - accuracy: 0.9337 - val_loss: 0.2605 - val_accuracy: 0.9106\n",
      "Epoch 13/50\n",
      "254/254 [==============================] - 67s 263ms/step - loss: 0.2059 - accuracy: 0.9310 - val_loss: 0.1673 - val_accuracy: 0.9461\n",
      "Epoch 14/50\n",
      "254/254 [==============================] - 67s 263ms/step - loss: 0.1355 - accuracy: 0.9540 - val_loss: 0.1434 - val_accuracy: 0.9472\n",
      "Epoch 15/50\n",
      "254/254 [==============================] - 67s 263ms/step - loss: 0.1546 - accuracy: 0.9476 - val_loss: 0.2089 - val_accuracy: 0.9378\n",
      "Epoch 16/50\n",
      "254/254 [==============================] - 67s 263ms/step - loss: 0.1520 - accuracy: 0.9495 - val_loss: 0.1980 - val_accuracy: 0.9367\n",
      "Epoch 17/50\n",
      "254/254 [==============================] - 67s 263ms/step - loss: 0.1400 - accuracy: 0.9575 - val_loss: 0.2806 - val_accuracy: 0.9117\n",
      "Epoch 18/50\n",
      "254/254 [==============================] - 67s 262ms/step - loss: 0.1642 - accuracy: 0.9449 - val_loss: 0.1614 - val_accuracy: 0.9450\n",
      "Epoch 19/50\n",
      "254/254 [==============================] - 67s 262ms/step - loss: 0.1032 - accuracy: 0.9642 - val_loss: 0.1484 - val_accuracy: 0.9544\n",
      "Epoch 20/50\n",
      "254/254 [==============================] - 67s 262ms/step - loss: 0.1118 - accuracy: 0.9631 - val_loss: 0.2246 - val_accuracy: 0.9222\n",
      "Epoch 21/50\n",
      "254/254 [==============================] - 67s 262ms/step - loss: 0.1283 - accuracy: 0.9578 - val_loss: 0.1652 - val_accuracy: 0.9439\n",
      "Epoch 22/50\n",
      "254/254 [==============================] - 67s 262ms/step - loss: 0.1298 - accuracy: 0.9593 - val_loss: 0.1894 - val_accuracy: 0.9539\n",
      "Epoch 23/50\n",
      "254/254 [==============================] - 67s 263ms/step - loss: 0.1015 - accuracy: 0.9653 - val_loss: 0.3031 - val_accuracy: 0.9056\n",
      "Epoch 24/50\n",
      "254/254 [==============================] - 67s 262ms/step - loss: 0.2508 - accuracy: 0.9210 - val_loss: 0.1893 - val_accuracy: 0.9433\n",
      "Epoch 25/50\n",
      "254/254 [==============================] - 66s 262ms/step - loss: 0.0908 - accuracy: 0.9705 - val_loss: 0.1685 - val_accuracy: 0.9389\n",
      "Epoch 26/50\n",
      "254/254 [==============================] - 67s 262ms/step - loss: 0.1132 - accuracy: 0.9655 - val_loss: 0.2467 - val_accuracy: 0.9261\n",
      "Epoch 27/50\n",
      "254/254 [==============================] - 67s 262ms/step - loss: 0.1435 - accuracy: 0.9506 - val_loss: 0.1775 - val_accuracy: 0.9483\n",
      "Epoch 28/50\n",
      "254/254 [==============================] - 67s 262ms/step - loss: 0.1095 - accuracy: 0.9607 - val_loss: 0.1544 - val_accuracy: 0.9522\n",
      "Epoch 29/50\n",
      "254/254 [==============================] - 67s 262ms/step - loss: 0.0783 - accuracy: 0.9739 - val_loss: 0.3767 - val_accuracy: 0.8856\n",
      "Epoch 30/50\n",
      "254/254 [==============================] - 66s 262ms/step - loss: 0.1233 - accuracy: 0.9574 - val_loss: 0.1655 - val_accuracy: 0.9522\n",
      "Epoch 31/50\n",
      "254/254 [==============================] - 67s 262ms/step - loss: 0.0906 - accuracy: 0.9713 - val_loss: 0.1509 - val_accuracy: 0.9539\n",
      "Epoch 32/50\n",
      "254/254 [==============================] - 66s 262ms/step - loss: 0.4410 - accuracy: 0.8641 - val_loss: 0.8105 - val_accuracy: 0.7294\n",
      "Epoch 33/50\n",
      "254/254 [==============================] - 66s 260ms/step - loss: 0.4592 - accuracy: 0.8527 - val_loss: 0.1718 - val_accuracy: 0.9417\n",
      "Epoch 34/50\n",
      "254/254 [==============================] - 66s 260ms/step - loss: 0.1544 - accuracy: 0.9520 - val_loss: 0.1991 - val_accuracy: 0.9461\n",
      "Epoch 35/50\n",
      "254/254 [==============================] - 66s 261ms/step - loss: 0.1209 - accuracy: 0.9588 - val_loss: 0.2821 - val_accuracy: 0.9211\n",
      "Epoch 36/50\n",
      "254/254 [==============================] - 66s 260ms/step - loss: 0.1245 - accuracy: 0.9565 - val_loss: 0.2229 - val_accuracy: 0.9378\n",
      "Epoch 37/50\n",
      "254/254 [==============================] - 66s 261ms/step - loss: 0.1127 - accuracy: 0.9625 - val_loss: 0.1917 - val_accuracy: 0.9572\n",
      "Epoch 38/50\n",
      "254/254 [==============================] - 66s 261ms/step - loss: 0.1260 - accuracy: 0.9626 - val_loss: 0.2290 - val_accuracy: 0.9400\n",
      "Epoch 39/50\n",
      "254/254 [==============================] - 66s 261ms/step - loss: 0.0985 - accuracy: 0.9701 - val_loss: 0.1710 - val_accuracy: 0.9583\n",
      "Epoch 40/50\n",
      "254/254 [==============================] - 66s 261ms/step - loss: 0.0977 - accuracy: 0.9715 - val_loss: 0.1611 - val_accuracy: 0.9522\n",
      "Epoch 41/50\n",
      "254/254 [==============================] - 66s 261ms/step - loss: 0.0642 - accuracy: 0.9783 - val_loss: 0.1808 - val_accuracy: 0.9517\n",
      "Epoch 42/50\n",
      "254/254 [==============================] - 66s 262ms/step - loss: 0.0767 - accuracy: 0.9764 - val_loss: 0.1355 - val_accuracy: 0.9544\n",
      "Epoch 43/50\n",
      "254/254 [==============================] - 66s 261ms/step - loss: 0.0901 - accuracy: 0.9730 - val_loss: 0.2466 - val_accuracy: 0.9367\n",
      "Epoch 44/50\n",
      "254/254 [==============================] - 66s 261ms/step - loss: 0.0968 - accuracy: 0.9699 - val_loss: 0.1389 - val_accuracy: 0.9578\n",
      "Epoch 45/50\n",
      "254/254 [==============================] - 66s 261ms/step - loss: 0.0774 - accuracy: 0.9780 - val_loss: 0.1730 - val_accuracy: 0.9494\n",
      "Epoch 46/50\n",
      "254/254 [==============================] - 66s 262ms/step - loss: 0.0958 - accuracy: 0.9702 - val_loss: 0.3170 - val_accuracy: 0.9394\n",
      "Epoch 47/50\n",
      "254/254 [==============================] - 66s 261ms/step - loss: 0.0968 - accuracy: 0.9710 - val_loss: 0.1591 - val_accuracy: 0.9556\n",
      "Epoch 48/50\n",
      "254/254 [==============================] - 66s 260ms/step - loss: 0.0992 - accuracy: 0.9689 - val_loss: 0.1736 - val_accuracy: 0.9522\n",
      "Epoch 49/50\n",
      "254/254 [==============================] - 66s 261ms/step - loss: 0.1324 - accuracy: 0.9604 - val_loss: 0.2093 - val_accuracy: 0.9500\n",
      "Epoch 50/50\n",
      "254/254 [==============================] - 66s 260ms/step - loss: 0.0610 - accuracy: 0.9801 - val_loss: 0.1933 - val_accuracy: 0.9561\n",
      "training done\n"
     ]
    }
   ],
   "source": [
    "model = Model()\n",
    " \n",
    "model.train(d_train)"
   ]
  },
  {
   "cell_type": "code",
   "execution_count": 15,
   "metadata": {
    "colab": {
     "base_uri": "https://localhost:8080/"
    },
    "id": "3PFiFdbwFP_g",
    "outputId": "a537d932-b5f0-4255-99d1-1f87e53a4dad"
   },
   "outputs": [
    {
     "name": "stdout",
     "output_type": "stream",
     "text": [
      "141/141 [==============================] - 4s 32ms/step - loss: 0.2345 - accuracy: 0.9507\n"
     ]
    },
    {
     "data": {
      "text/plain": [
       "[0.2344571053981781, 0.9506666660308838]"
      ]
     },
     "execution_count": 15,
     "metadata": {
      "tags": []
     },
     "output_type": "execute_result"
    }
   ],
   "source": [
    "model.classifier.evaluate(d_test.images, d_test.labels)"
   ]
  },
  {
   "cell_type": "code",
   "execution_count": 19,
   "metadata": {
    "id": "mifHA5Nw9GKz"
   },
   "outputs": [],
   "source": [
    "model.save('best')"
   ]
  },
  {
   "cell_type": "code",
   "execution_count": 16,
   "metadata": {
    "colab": {
     "base_uri": "https://localhost:8080/",
     "height": 573
    },
    "id": "IWFX-3AxpPop",
    "outputId": "ea3aac03-f477-4ba4-cda9-69ae79e9a076"
   },
   "outputs": [
    {
     "data": {
      "image/png": "[encoded data removed]",
      "text/plain": [
       "<Figure size 432x288 with 1 Axes>"
      ]
     },
     "metadata": {
      "needs_background": "light",
      "tags": []
     },
     "output_type": "display_data"
    },
    {
     "data": {
      "image/png": "[encoded data removed]",
      "text/plain": [
       "<Figure size 432x288 with 1 Axes>"
      ]
     },
     "metadata": {
      "needs_background": "light",
      "tags": []
     },
     "output_type": "display_data"
    }
   ],
   "source": [
    "model.visual()"
   ]
  },
  {
   "cell_type": "markdown",
   "metadata": {
    "id": "CcM2EiRMVP93"
   },
   "source": [
    "Пример тестирования модели на части набора данных:"
   ]
  },
  {
   "cell_type": "code",
   "execution_count": 17,
   "metadata": {
    "colab": {
     "base_uri": "https://localhost:8080/",
     "height": 151,
     "referenced_widgets": [
      "b00ee07329ce42f1a4ecfd027dd0ef1e",
      "0ecd70148d164ad490985f31dcaf70ea",
      "d6a9174c024e416a8067aa5cb210d348",
      "cdf4db7e27c644c98d18f7cda84eb4af",
      "2c781fca134f41df9a074f2c847466c9",
      "4f53bd5c463a48488a5457c98809bf85",
      "10ed8347b9c54883845a875951b36928",
      "7288b490488c405cbf1b3e31af70905b"
     ]
    },
    "id": "I0AqmeLEKqrs",
    "outputId": "eefd7a5d-7b06-4fe7-c812-6e415e617beb"
   },
   "outputs": [
    {
     "data": {
      "application/vnd.jupyter.widget-view+json": {
       "model_id": "b00ee07329ce42f1a4ecfd027dd0ef1e",
       "version_major": 2,
       "version_minor": 0
      },
      "text/plain": [
       "HBox(children=(FloatProgress(value=0.0, max=450.0), HTML(value='')))"
      ]
     },
     "metadata": {
      "tags": []
     },
     "output_type": "display_data"
    },
    {
     "name": "stdout",
     "output_type": "stream",
     "text": [
      "\n",
      "metrics for 10% of test:\n",
      "\t accuracy 0.9667:\n",
      "\t balanced accuracy 0.9667:\n"
     ]
    },
    {
     "name": "stderr",
     "output_type": "stream",
     "text": [
      "/usr/local/lib/python3.7/dist-packages/sklearn/metrics/_classification.py:1859: UserWarning: y_pred contains classes not in y_true\n",
      "  warnings.warn('y_pred contains classes not in y_true')\n"
     ]
    }
   ],
   "source": [
    "# evaluating model on 10% of test dataset\n",
    "pred_1 = model.test_on_dataset(d_test, limit=0.1)\n",
    "Metrics.print_all(d_test.labels[:len(pred_1)], pred_1, '10% of test')"
   ]
  },
  {
   "cell_type": "markdown",
   "metadata": {
    "id": "mSwvHVVzVWZ5"
   },
   "source": [
    "Пример тестирования модели на полном наборе данных:"
   ]
  },
  {
   "cell_type": "code",
   "execution_count": 18,
   "metadata": {
    "colab": {
     "base_uri": "https://localhost:8080/",
     "height": 117,
     "referenced_widgets": [
      "4e2bbae570524dfeae562fd20e1edd61",
      "d621a8ec083e4fadbe2cd0ea82ce62d9",
      "1cda9fdd9e5043dbbe9685cdb9846606",
      "3b8870490ae6449c8511b6cf88c74603",
      "16de1483bbda40d28a6b5881c843325c",
      "d4c6df6c4a63473ea7231be4f121ddab",
      "5346d81c15884974b29917842e1652c4",
      "1d70fe460cdf486f94b98edc5a6b9bc7"
     ]
    },
    "id": "mjI_sbMi3TMY",
    "outputId": "6fe449ba-6763-4902-a67c-a8844dd42e18"
   },
   "outputs": [
    {
     "data": {
      "application/vnd.jupyter.widget-view+json": {
       "model_id": "4e2bbae570524dfeae562fd20e1edd61",
       "version_major": 2,
       "version_minor": 0
      },
      "text/plain": [
       "HBox(children=(FloatProgress(value=0.0, max=4500.0), HTML(value='')))"
      ]
     },
     "metadata": {
      "tags": []
     },
     "output_type": "display_data"
    },
    {
     "name": "stdout",
     "output_type": "stream",
     "text": [
      "\n",
      "metrics for test:\n",
      "\t accuracy 0.9507:\n",
      "\t balanced accuracy 0.9507:\n"
     ]
    }
   ],
   "source": [
    "# evaluating model on full test dataset (may take time)\n",
    "pred_2 = model.test_on_dataset(d_test)\n",
    "Metrics.print_all(d_test.labels, pred_2, 'test')"
   ]
  },
  {
   "cell_type": "markdown",
   "metadata": {
    "id": "kvyEHdxEB18o"
   },
   "source": [
    "Результат работы пайплайна обучения и тестирования выше тоже будет оцениваться. Поэтому не забудьте присылать на проверку ноутбук с выполнеными ячейками кода с демонстрациями метрик обучения, графиками и т.п. В этом пайплайне Вам необходимо продемонстрировать работу всех реализованных дополнений, улучшений и т.п.\n",
    "\n",
    "<font color=\"red\">\n",
    "Настоятельно рекомендуется после получения пайплайна с полными результатами обучения экспортировать ноутбук в pdf (файл -> печать) и прислать этот pdf вместе с самим ноутбуком.\n",
    "</font>"
   ]
  },
  {
   "cell_type": "markdown",
   "metadata": {
    "id": "RzSKAvVI6uCW"
   },
   "source": [
    "### Тестирование модели на других наборах данных\n",
    "\n",
    "Ваша модель должна поддерживать тестирование на других наборах данных. Для удобства, Вам предоставляется набор данных test_tiny, который представляет собой малую часть (2% изображений) набора test. Ниже приведен фрагмент кода, который будет осуществлять тестирование для оценивания Вашей модели на дополнительных тестовых наборах данных.\n",
    "\n",
    "<font color=\"red\">\n",
    "Прежде чем отсылать задание на проверку, убедитесь в работоспособности фрагмента кода ниже.\n",
    "</font>"
   ]
  },
  {
   "cell_type": "code",
   "execution_count": 21,
   "metadata": {
    "colab": {
     "base_uri": "https://localhost:8080/",
     "height": 168,
     "referenced_widgets": [
      "0475223e2a93463f86b3b55d3eabd956",
      "7c3ab7e9134b44a387791aa675e077c5",
      "ea69abbfee9c444fa1b5f4cae97cdeee",
      "7018b295a13a47abb209dd3beab1d031",
      "435f74a3784840ea8b4551f8e5d77b75",
      "527b3de890e349c8ad43783f87522ada",
      "ace2a1c4ca1d402c8d76aa4c50b59529",
      "06f5e1e1e0dc4122ad91d75926f2d260"
     ]
    },
    "id": "sdY3uTt87tqv",
    "outputId": "e07e68d4-2b1f-481c-a88c-e7e288fe4b18"
   },
   "outputs": [
    {
     "name": "stdout",
     "output_type": "stream",
     "text": [
      "Loading model best\n",
      "Loading dataset test_tiny-2 from npz.\n",
      "Done. Dataset test_tiny-2 consists of 90 images.\n"
     ]
    },
    {
     "data": {
      "application/vnd.jupyter.widget-view+json": {
       "model_id": "0475223e2a93463f86b3b55d3eabd956",
       "version_major": 2,
       "version_minor": 0
      },
      "text/plain": [
       "HBox(children=(FloatProgress(value=0.0, max=90.0), HTML(value='')))"
      ]
     },
     "metadata": {
      "tags": []
     },
     "output_type": "display_data"
    },
    {
     "name": "stdout",
     "output_type": "stream",
     "text": [
      "\n",
      "metrics for test-tiny:\n",
      "\t accuracy 0.9222:\n",
      "\t balanced accuracy 0.9222:\n"
     ]
    }
   ],
   "source": [
    "final_model = Model()\n",
    "final_model.load('best')\n",
    "d_test_tiny = Dataset('test_tiny-2', PROJECT_DIR)\n",
    "pred = model.test_on_dataset(d_test_tiny)\n",
    "Metrics.print_all(d_test_tiny.labels, pred, 'test-tiny')"
   ]
  },
  {
   "cell_type": "markdown",
   "metadata": {
    "id": "lPvyj4gscU10"
   },
   "source": [
    "Отмонтировать Google Drive."
   ]
  },
  {
   "cell_type": "code",
   "execution_count": null,
   "metadata": {
    "id": "NfX35zNSvFWn"
   },
   "outputs": [],
   "source": [
    "drive.flush_and_unmount()"
   ]
  },
  {
   "cell_type": "markdown",
   "metadata": {
    "id": "RMyDxCDCspcI"
   },
   "source": [
    "---\n",
    "# Дополнительные \"полезности\"\n",
    "\n",
    "Ниже приведены примеры использования различных функций и библиотек, которые могут быть полезны при выполнении данного практического задания."
   ]
  },
  {
   "cell_type": "markdown",
   "metadata": {
    "id": "VvLwSttCs1rB"
   },
   "source": [
    "### Измерение времени работы кода\n",
    "\n",
    "Измерять время работы какой-либо функции можно легко и непринужденно при помощи функции timeit из соответствующего модуля:"
   ]
  },
  {
   "cell_type": "code",
   "execution_count": null,
   "metadata": {
    "colab": {
     "base_uri": "https://localhost:8080/"
    },
    "id": "-HnLVhwE9C9S",
    "outputId": "6b5ce789-ebb9-4068-cea9-b1041dd16d4e"
   },
   "outputs": [
    {
     "name": "stdout",
     "output_type": "stream",
     "text": [
      "Function f is caluclated 128 times in 0.03538683599981596s.\n"
     ]
    }
   ],
   "source": [
    "import timeit\n",
    "\n",
    "def factorial(n):\n",
    "    res = 1\n",
    "    for i in range(1, n + 1):\n",
    "        res *= i\n",
    "    return res\n",
    "\n",
    "\n",
    "def f():\n",
    "    return factorial(n=1000)\n",
    "\n",
    "n_runs = 128\n",
    "print(f'Function f is caluclated {n_runs} times in {timeit.timeit(f, number=n_runs)}s.')"
   ]
  },
  {
   "cell_type": "markdown",
   "metadata": {
    "id": "fibGVEdguOOi"
   },
   "source": [
    "### Scikit-learn\n",
    "\n",
    "Для использования \"классических\" алгоритмов машинного обучения рекомендуется использовать библиотеку scikit-learn (https://scikit-learn.org/stable/). Пример классификации изображений цифр из набора данных MNIST при помощи классификатора SVM:"
   ]
  },
  {
   "cell_type": "code",
   "execution_count": null,
   "metadata": {
    "colab": {
     "base_uri": "https://localhost:8080/",
     "height": 1101
    },
    "id": "vXHnBzEfunAO",
    "outputId": "e8a38dde-238f-4af9-b1b6-bb86ee949574"
   },
   "outputs": [
    {
     "name": "stdout",
     "output_type": "stream",
     "text": [
      "Classification report for classifier SVC(C=1.0, break_ties=False, cache_size=200, class_weight=None, coef0=0.0,\n",
      "    decision_function_shape='ovr', degree=3, gamma=0.001, kernel='rbf',\n",
      "    max_iter=-1, probability=False, random_state=None, shrinking=True,\n",
      "    tol=0.001, verbose=False):\n",
      "              precision    recall  f1-score   support\n",
      "\n",
      "           0       1.00      0.99      0.99        88\n",
      "           1       0.99      0.97      0.98        91\n",
      "           2       0.99      0.99      0.99        86\n",
      "           3       0.98      0.87      0.92        91\n",
      "           4       0.99      0.96      0.97        92\n",
      "           5       0.95      0.97      0.96        91\n",
      "           6       0.99      0.99      0.99        91\n",
      "           7       0.96      0.99      0.97        89\n",
      "           8       0.94      1.00      0.97        88\n",
      "           9       0.93      0.98      0.95        92\n",
      "\n",
      "    accuracy                           0.97       899\n",
      "   macro avg       0.97      0.97      0.97       899\n",
      "weighted avg       0.97      0.97      0.97       899\n",
      "\n",
      "\n",
      "Confusion matrix:\n",
      "[[87  0  0  0  1  0  0  0  0  0]\n",
      " [ 0 88  1  0  0  0  0  0  1  1]\n",
      " [ 0  0 85  1  0  0  0  0  0  0]\n",
      " [ 0  0  0 79  0  3  0  4  5  0]\n",
      " [ 0  0  0  0 88  0  0  0  0  4]\n",
      " [ 0  0  0  0  0 88  1  0  0  2]\n",
      " [ 0  1  0  0  0  0 90  0  0  0]\n",
      " [ 0  0  0  0  0  1  0 88  0  0]\n",
      " [ 0  0  0  0  0  0  0  0 88  0]\n",
      " [ 0  0  0  1  0  1  0  0  0 90]]\n"
     ]
    },
    {
     "data": {
      "image/png": "[encoded data removed]",
      "text/plain": [
       "<Figure size 432x288 with 8 Axes>"
      ]
     },
     "metadata": {
      "needs_background": "light",
      "tags": []
     },
     "output_type": "display_data"
    },
    {
     "data": {
      "image/png": "[encoded data removed]",
      "text/plain": [
       "<Figure size 432x288 with 2 Axes>"
      ]
     },
     "metadata": {
      "needs_background": "light",
      "tags": []
     },
     "output_type": "display_data"
    }
   ],
   "source": [
    "# Standard scientific Python imports\n",
    "import matplotlib.pyplot as plt\n",
    "\n",
    "# Import datasets, classifiers and performance metrics\n",
    "from sklearn import datasets, svm, metrics\n",
    "from sklearn.model_selection import train_test_split\n",
    "\n",
    "# The digits dataset\n",
    "digits = datasets.load_digits()\n",
    "\n",
    "# The data that we are interested in is made of 8x8 images of digits, let's\n",
    "# have a look at the first 4 images, stored in the `images` attribute of the\n",
    "# dataset.  If we were working from image files, we could load them using\n",
    "# matplotlib.pyplot.imread.  Note that each image must have the same size. For these\n",
    "# images, we know which digit they represent: it is given in the 'target' of\n",
    "# the dataset.\n",
    "_, axes = plt.subplots(2, 4)\n",
    "images_and_labels = list(zip(digits.images, digits.target))\n",
    "for ax, (image, label) in zip(axes[0, :], images_and_labels[:4]):\n",
    "    ax.set_axis_off()\n",
    "    ax.imshow(image, cmap=plt.cm.gray_r, interpolation='nearest')\n",
    "    ax.set_title('Training: %i' % label)\n",
    "\n",
    "# To apply a classifier on this data, we need to flatten the image, to\n",
    "# turn the data in a (samples, feature) matrix:\n",
    "n_samples = len(digits.images)\n",
    "data = digits.images.reshape((n_samples, -1))\n",
    "\n",
    "# Create a classifier: a support vector classifier\n",
    "classifier = svm.SVC(gamma=0.001)\n",
    "\n",
    "# Split data into train and test subsets\n",
    "X_train, X_test, y_train, y_test = train_test_split(\n",
    "    data, digits.target, test_size=0.5, shuffle=False)\n",
    "\n",
    "# We learn the digits on the first half of the digits\n",
    "classifier.fit(X_train, y_train)\n",
    "\n",
    "# Now predict the value of the digit on the second half:\n",
    "predicted = classifier.predict(X_test)\n",
    "\n",
    "images_and_predictions = list(zip(digits.images[n_samples // 2:], predicted))\n",
    "for ax, (image, prediction) in zip(axes[1, :], images_and_predictions[:4]):\n",
    "    ax.set_axis_off()\n",
    "    ax.imshow(image, cmap=plt.cm.gray_r, interpolation='nearest')\n",
    "    ax.set_title('Prediction: %i' % prediction)\n",
    "\n",
    "print(\"Classification report for classifier %s:\\n%s\\n\"\n",
    "      % (classifier, metrics.classification_report(y_test, predicted)))\n",
    "disp = metrics.plot_confusion_matrix(classifier, X_test, y_test)\n",
    "disp.figure_.suptitle(\"Confusion Matrix\")\n",
    "print(\"Confusion matrix:\\n%s\" % disp.confusion_matrix)\n",
    "\n",
    "plt.show()"
   ]
  },
  {
   "cell_type": "markdown",
   "metadata": {
    "id": "Uu3Dny5zxcVy"
   },
   "source": [
    "### Scikit-image\n",
    "\n",
    "Реализовывать различные операции для работы с изображениями можно как самостоятельно, работая с массивами numpy, так и используя специализированные библиотеки, например, scikit-image (https://scikit-image.org/). Ниже приведен пример использования Canny edge detector."
   ]
  },
  {
   "cell_type": "code",
   "execution_count": null,
   "metadata": {
    "colab": {
     "base_uri": "https://localhost:8080/",
     "height": 192
    },
    "id": "5TZvy_d7xc0B",
    "outputId": "013d39c1-59ce-45ce-aa17-1db79b03ff77"
   },
   "outputs": [
    {
     "data": {
      "image/png": "[encoded data removed]",
      "text/plain": [
       "<Figure size 576x216 with 3 Axes>"
      ]
     },
     "metadata": {
      "needs_background": "light",
      "tags": []
     },
     "output_type": "display_data"
    }
   ],
   "source": [
    "import numpy as np\n",
    "import matplotlib.pyplot as plt\n",
    "from scipy import ndimage as ndi\n",
    "\n",
    "from skimage import feature\n",
    "\n",
    "\n",
    "# Generate noisy image of a square\n",
    "im = np.zeros((128, 128))\n",
    "im[32:-32, 32:-32] = 1\n",
    "\n",
    "im = ndi.rotate(im, 15, mode='constant')\n",
    "im = ndi.gaussian_filter(im, 4)\n",
    "im += 0.2 * np.random.random(im.shape)\n",
    "\n",
    "# Compute the Canny filter for two values of sigma\n",
    "edges1 = feature.canny(im)\n",
    "edges2 = feature.canny(im, sigma=3)\n",
    "\n",
    "# display results\n",
    "fig, (ax1, ax2, ax3) = plt.subplots(nrows=1, ncols=3, figsize=(8, 3),\n",
    "                                    sharex=True, sharey=True)\n",
    "\n",
    "ax1.imshow(im, cmap=plt.cm.gray)\n",
    "ax1.axis('off')\n",
    "ax1.set_title('noisy image', fontsize=20)\n",
    "\n",
    "ax2.imshow(edges1, cmap=plt.cm.gray)\n",
    "ax2.axis('off')\n",
    "ax2.set_title(r'Canny filter, $\\sigma=1$', fontsize=20)\n",
    "\n",
    "ax3.imshow(edges2, cmap=plt.cm.gray)\n",
    "ax3.axis('off')\n",
    "ax3.set_title(r'Canny filter, $\\sigma=3$', fontsize=20)\n",
    "\n",
    "fig.tight_layout()\n",
    "\n",
    "plt.show()"
   ]
  },
  {
   "cell_type": "markdown",
   "metadata": {
    "id": "hiEWhGUQRGoH"
   },
   "source": [
    "### Tensorflow 2\n",
    "\n",
    "Для создания и обучения нейросетевых моделей можно использовать фреймворк глубокого обучения Tensorflow 2. Ниже приведен пример простейшей нейроной сети, использующейся для классификации изображений из набора данных MNIST."
   ]
  },
  {
   "cell_type": "code",
   "execution_count": null,
   "metadata": {
    "colab": {
     "base_uri": "https://localhost:8080/"
    },
    "id": "kDwLG7A1ReNy",
    "outputId": "dff8f73a-697a-4aa9-96d1-cceb0118d621"
   },
   "outputs": [
    {
     "name": "stdout",
     "output_type": "stream",
     "text": [
      "Downloading data from https://storage.googleapis.com/tensorflow/tf-keras-datasets/mnist.npz\n",
      "11493376/11490434 [==============================] - 0s 0us/step\n",
      "Epoch 1/5\n",
      "1875/1875 [==============================] - 3s 2ms/step - loss: 0.3014 - accuracy: 0.9136\n",
      "Epoch 2/5\n",
      "1875/1875 [==============================] - 3s 2ms/step - loss: 0.1446 - accuracy: 0.9571\n",
      "Epoch 3/5\n",
      "1875/1875 [==============================] - 3s 2ms/step - loss: 0.1077 - accuracy: 0.9671\n",
      "Epoch 4/5\n",
      "1875/1875 [==============================] - 3s 2ms/step - loss: 0.0864 - accuracy: 0.9735\n",
      "Epoch 5/5\n",
      "1875/1875 [==============================] - 3s 2ms/step - loss: 0.0731 - accuracy: 0.9773\n",
      "313/313 - 0s - loss: 0.0787 - accuracy: 0.9760\n"
     ]
    },
    {
     "data": {
      "text/plain": [
       "[0.07866337150335312, 0.9760000109672546]"
      ]
     },
     "execution_count": 55,
     "metadata": {
      "tags": []
     },
     "output_type": "execute_result"
    }
   ],
   "source": [
    "# Install TensorFlow\n",
    "\n",
    "import tensorflow as tf\n",
    "\n",
    "mnist = tf.keras.datasets.mnist\n",
    "\n",
    "(x_train, y_train), (x_test, y_test) = mnist.load_data()\n",
    "x_train, x_test = x_train / 255.0, x_test / 255.0\n",
    "\n",
    "model = tf.keras.models.Sequential([\n",
    "  tf.keras.layers.Flatten(input_shape=(28, 28)),\n",
    "  tf.keras.layers.Dense(128, activation='relu'),\n",
    "  tf.keras.layers.Dropout(0.2),\n",
    "  tf.keras.layers.Dense(10, activation='softmax')\n",
    "])\n",
    "\n",
    "model.compile(optimizer='adam',\n",
    "              loss='sparse_categorical_crossentropy',\n",
    "              metrics=['accuracy'])\n",
    "\n",
    "model.fit(x_train, y_train, epochs=5)\n",
    "\n",
    "model.evaluate(x_test,  y_test, verbose=2)"
   ]
  },
  {
   "cell_type": "markdown",
   "metadata": {
    "id": "IbvktmLwRu8g"
   },
   "source": [
    "<font color=\"red\">\n",
    "Для эффективной работы с моделями глубокого обучения убедитесь в том, что в текущей среде Google Colab используется аппаратный ускоритель GPU или TPU. Для смены среды выберите \"среда выполнения\" -> \"сменить среду выполнения\".\n",
    "</font>"
   ]
  },
  {
   "cell_type": "markdown",
   "metadata": {
    "id": "nJVNOOU9Sjyf"
   },
   "source": [
    "Большое количество туториалов и примеров с кодом на Tensorflow 2 можно найти на официальном сайте https://www.tensorflow.org/tutorials?hl=ru. "
   ]
  },
  {
   "cell_type": "markdown",
   "metadata": {
    "id": "GVPs3pYpS0U1"
   },
   "source": [
    "Также, Вам может понадобиться написать собственный генератор данных для Tensorflow 2. Скорее всего он будет достаточно простым, и его легко можно будет реализовать, используя официальную документацию TensorFlow 2. Но, на всякий случай (если не удлось сразу разобраться или хочется вникнуть в тему более глубоко), можете посмотреть следующий отличный туториал: https://stanford.edu/~shervine/blog/keras-how-to-generate-data-on-the-fly."
   ]
  },
  {
   "cell_type": "markdown",
   "metadata": {
    "id": "lwI-T0IXyN84"
   },
   "source": [
    "### Numba\n",
    "\n",
    "В некоторых ситуациях, при ручных реализациях графовых алгоритмов, выполнение многократных вложенных циклов for в python можно существенно ускорить, используя JIT-компилятор Numba (https://numba.pydata.org/).\n",
    "Примеры использования Numba в Google Colab можно найти тут:\n",
    "1. https://colab.research.google.com/github/cbernet/maldives/blob/master/numba/numba_cuda.ipynb\n",
    "2. https://colab.research.google.com/github/evaneschneider/parallel-programming/blob/master/COMPASS_gpu_intro.ipynb \n",
    "\n",
    "> Пожалуйста, если Вы решили использовать Numba для решения этого практического задания, еще раз подумайте, нужно ли это Вам, и есть ли возможность реализовать требуемую функциональность иным способом. Используйте Numba только при реальной необходимости.\n",
    "\n"
   ]
  },
  {
   "cell_type": "markdown",
   "metadata": {
    "id": "BxAJ00A76LcF"
   },
   "source": [
    "### Работа с zip архивами в Google Drive\n",
    "\n",
    "Запаковка и распаковка zip архивов может пригодиться при сохранении и загрузки Вашей модели. Ниже приведен фрагмент кода, иллюстрирующий помещение нескольких файлов в zip архив с последующим чтением файлов из него. Все действия с директориями, файлами и архивами должны осущетвляться с примонтированным Google Drive.\n"
   ]
  },
  {
   "cell_type": "markdown",
   "metadata": {
    "id": "ZJiKndOpPu_e"
   },
   "source": [
    "Создадим 2 изображения, поместим их в директорию tmp внутри PROJECT_DIR, запакуем директорию tmp в архив tmp.zip."
   ]
  },
  {
   "cell_type": "code",
   "execution_count": null,
   "metadata": {
    "colab": {
     "base_uri": "https://localhost:8080/"
    },
    "id": "CRwgPtv-6nMP",
    "outputId": "8cbdbd6a-5d7f-49b3-f8b6-9006849f2d70"
   },
   "outputs": [
    {
     "name": "stdout",
     "output_type": "stream",
     "text": [
      "/content/drive/MyDrive/dev/prak_nn_1_data\n",
      "  adding: tmp/ (stored 0%)\n",
      "  adding: tmp/img1.png (stored 0%)\n",
      "  adding: tmp/img2.png (stored 0%)\n"
     ]
    }
   ],
   "source": [
    "arr1 = np.random.rand(100, 100, 3) * 255\n",
    "arr2 = np.random.rand(100, 100, 3) * 255\n",
    "\n",
    "img1 = Image.fromarray(arr1.astype('uint8'))\n",
    "img2 = Image.fromarray(arr2.astype('uint8'))\n",
    "\n",
    "p = \"/content/drive/MyDrive/\" + PROJECT_DIR\n",
    "\n",
    "if not (Path(p) / 'tmp').exists():\n",
    "    (Path(p) / 'tmp').mkdir()\n",
    "\n",
    "img1.save(str(Path(p) / 'tmp' / 'img1.png'))\n",
    "img2.save(str(Path(p) / 'tmp' / 'img2.png'))\n",
    "\n",
    "%cd $p\n",
    "!zip -r \"tmp.zip\" \"tmp\""
   ]
  },
  {
   "cell_type": "markdown",
   "metadata": {
    "id": "MykrBSWNQQlq"
   },
   "source": [
    "Распакуем архив tmp.zip в директорию tmp2 в PROJECT_DIR. Теперь внутри директории tmp2 содержится директория tmp, внутри которой находятся 2 изображения."
   ]
  },
  {
   "cell_type": "code",
   "execution_count": null,
   "metadata": {
    "colab": {
     "base_uri": "https://localhost:8080/"
    },
    "id": "CwSWrYIWMAus",
    "outputId": "a2d4a9c7-ba0b-4373-ba87-3cae7ab22e06"
   },
   "outputs": [
    {
     "name": "stdout",
     "output_type": "stream",
     "text": [
      "/content/drive/MyDrive/dev/prak_nn_1_data\n"
     ]
    }
   ],
   "source": [
    "p = \"/content/drive/MyDrive/\" + PROJECT_DIR\n",
    "%cd $p\n",
    "!unzip -uq \"tmp.zip\" -d \"tmp2\""
   ]
  }
 ],
 "metadata": {
  "accelerator": "GPU",
  "colab": {
   "collapsed_sections": [],
   "name": "problem_1_starter-2.ipynb",
   "provenance": []
  },
  "kernelspec": {
   "display_name": "Python 3",
   "language": "python",
   "name": "python3"
  },
  "language_info": {
   "codemirror_mode": {
    "name": "ipython",
    "version": 3
   },
   "file_extension": ".py",
   "mimetype": "text/x-python",
   "name": "python",
   "nbconvert_exporter": "python",
   "pygments_lexer": "ipython3",
   "version": "3.7.9"
  },
  "widgets": {
   "application/vnd.jupyter.widget-state+json": {
    "0475223e2a93463f86b3b55d3eabd956": {
     "model_module": "@jupyter-widgets/controls",
     "model_name": "HBoxModel",
     "state": {
      "_dom_classes": [],
      "_model_module": "@jupyter-widgets/controls",
      "_model_module_version": "1.5.0",
      "_model_name": "HBoxModel",
      "_view_count": null,
      "_view_module": "@jupyter-widgets/controls",
      "_view_module_version": "1.5.0",
      "_view_name": "HBoxView",
      "box_style": "",
      "children": [
       "IPY_MODEL_ea69abbfee9c444fa1b5f4cae97cdeee",
       "IPY_MODEL_7018b295a13a47abb209dd3beab1d031"
      ],
      "layout": "IPY_MODEL_7c3ab7e9134b44a387791aa675e077c5"
     }
    },
    "06f5e1e1e0dc4122ad91d75926f2d260": {
     "model_module": "@jupyter-widgets/base",
     "model_name": "LayoutModel",
     "state": {
      "_model_module": "@jupyter-widgets/base",
      "_model_module_version": "1.2.0",
      "_model_name": "LayoutModel",
      "_view_count": null,
      "_view_module": "@jupyter-widgets/base",
      "_view_module_version": "1.2.0",
      "_view_name": "LayoutView",
      "align_content": null,
      "align_items": null,
      "align_self": null,
      "border": null,
      "bottom": null,
      "display": null,
      "flex": null,
      "flex_flow": null,
      "grid_area": null,
      "grid_auto_columns": null,
      "grid_auto_flow": null,
      "grid_auto_rows": null,
      "grid_column": null,
      "grid_gap": null,
      "grid_row": null,
      "grid_template_areas": null,
      "grid_template_columns": null,
      "grid_template_rows": null,
      "height": null,
      "justify_content": null,
      "justify_items": null,
      "left": null,
      "margin": null,
      "max_height": null,
      "max_width": null,
      "min_height": null,
      "min_width": null,
      "object_fit": null,
      "object_position": null,
      "order": null,
      "overflow": null,
      "overflow_x": null,
      "overflow_y": null,
      "padding": null,
      "right": null,
      "top": null,
      "visibility": null,
      "width": null
     }
    },
    "0ecd70148d164ad490985f31dcaf70ea": {
     "model_module": "@jupyter-widgets/base",
     "model_name": "LayoutModel",
     "state": {
      "_model_module": "@jupyter-widgets/base",
      "_model_module_version": "1.2.0",
      "_model_name": "LayoutModel",
      "_view_count": null,
      "_view_module": "@jupyter-widgets/base",
      "_view_module_version": "1.2.0",
      "_view_name": "LayoutView",
      "align_content": null,
      "align_items": null,
      "align_self": null,
      "border": null,
      "bottom": null,
      "display": null,
      "flex": null,
      "flex_flow": null,
      "grid_area": null,
      "grid_auto_columns": null,
      "grid_auto_flow": null,
      "grid_auto_rows": null,
      "grid_column": null,
      "grid_gap": null,
      "grid_row": null,
      "grid_template_areas": null,
      "grid_template_columns": null,
      "grid_template_rows": null,
      "height": null,
      "justify_content": null,
      "justify_items": null,
      "left": null,
      "margin": null,
      "max_height": null,
      "max_width": null,
      "min_height": null,
      "min_width": null,
      "object_fit": null,
      "object_position": null,
      "order": null,
      "overflow": null,
      "overflow_x": null,
      "overflow_y": null,
      "padding": null,
      "right": null,
      "top": null,
      "visibility": null,
      "width": null
     }
    },
    "10ed8347b9c54883845a875951b36928": {
     "model_module": "@jupyter-widgets/controls",
     "model_name": "DescriptionStyleModel",
     "state": {
      "_model_module": "@jupyter-widgets/controls",
      "_model_module_version": "1.5.0",
      "_model_name": "DescriptionStyleModel",
      "_view_count": null,
      "_view_module": "@jupyter-widgets/base",
      "_view_module_version": "1.2.0",
      "_view_name": "StyleView",
      "description_width": ""
     }
    },
    "16de1483bbda40d28a6b5881c843325c": {
     "model_module": "@jupyter-widgets/controls",
     "model_name": "ProgressStyleModel",
     "state": {
      "_model_module": "@jupyter-widgets/controls",
      "_model_module_version": "1.5.0",
      "_model_name": "ProgressStyleModel",
      "_view_count": null,
      "_view_module": "@jupyter-widgets/base",
      "_view_module_version": "1.2.0",
      "_view_name": "StyleView",
      "bar_color": null,
      "description_width": "initial"
     }
    },
    "1cda9fdd9e5043dbbe9685cdb9846606": {
     "model_module": "@jupyter-widgets/controls",
     "model_name": "FloatProgressModel",
     "state": {
      "_dom_classes": [],
      "_model_module": "@jupyter-widgets/controls",
      "_model_module_version": "1.5.0",
      "_model_name": "FloatProgressModel",
      "_view_count": null,
      "_view_module": "@jupyter-widgets/controls",
      "_view_module_version": "1.5.0",
      "_view_name": "ProgressView",
      "bar_style": "success",
      "description": "100%",
      "description_tooltip": null,
      "layout": "IPY_MODEL_d4c6df6c4a63473ea7231be4f121ddab",
      "max": 4500,
      "min": 0,
      "orientation": "horizontal",
      "style": "IPY_MODEL_16de1483bbda40d28a6b5881c843325c",
      "value": 4500
     }
    },
    "1d70fe460cdf486f94b98edc5a6b9bc7": {
     "model_module": "@jupyter-widgets/base",
     "model_name": "LayoutModel",
     "state": {
      "_model_module": "@jupyter-widgets/base",
      "_model_module_version": "1.2.0",
      "_model_name": "LayoutModel",
      "_view_count": null,
      "_view_module": "@jupyter-widgets/base",
      "_view_module_version": "1.2.0",
      "_view_name": "LayoutView",
      "align_content": null,
      "align_items": null,
      "align_self": null,
      "border": null,
      "bottom": null,
      "display": null,
      "flex": null,
      "flex_flow": null,
      "grid_area": null,
      "grid_auto_columns": null,
      "grid_auto_flow": null,
      "grid_auto_rows": null,
      "grid_column": null,
      "grid_gap": null,
      "grid_row": null,
      "grid_template_areas": null,
      "grid_template_columns": null,
      "grid_template_rows": null,
      "height": null,
      "justify_content": null,
      "justify_items": null,
      "left": null,
      "margin": null,
      "max_height": null,
      "max_width": null,
      "min_height": null,
      "min_width": null,
      "object_fit": null,
      "object_position": null,
      "order": null,
      "overflow": null,
      "overflow_x": null,
      "overflow_y": null,
      "padding": null,
      "right": null,
      "top": null,
      "visibility": null,
      "width": null
     }
    },
    "2c781fca134f41df9a074f2c847466c9": {
     "model_module": "@jupyter-widgets/controls",
     "model_name": "ProgressStyleModel",
     "state": {
      "_model_module": "@jupyter-widgets/controls",
      "_model_module_version": "1.5.0",
      "_model_name": "ProgressStyleModel",
      "_view_count": null,
      "_view_module": "@jupyter-widgets/base",
      "_view_module_version": "1.2.0",
      "_view_name": "StyleView",
      "bar_color": null,
      "description_width": "initial"
     }
    },
    "3b8870490ae6449c8511b6cf88c74603": {
     "model_module": "@jupyter-widgets/controls",
     "model_name": "HTMLModel",
     "state": {
      "_dom_classes": [],
      "_model_module": "@jupyter-widgets/controls",
      "_model_module_version": "1.5.0",
      "_model_name": "HTMLModel",
      "_view_count": null,
      "_view_module": "@jupyter-widgets/controls",
      "_view_module_version": "1.5.0",
      "_view_name": "HTMLView",
      "description": "",
      "description_tooltip": null,
      "layout": "IPY_MODEL_1d70fe460cdf486f94b98edc5a6b9bc7",
      "placeholder": "​",
      "style": "IPY_MODEL_5346d81c15884974b29917842e1652c4",
      "value": " 4500/4500 [03:49&lt;00:00, 19.58it/s]"
     }
    },
    "435f74a3784840ea8b4551f8e5d77b75": {
     "model_module": "@jupyter-widgets/controls",
     "model_name": "ProgressStyleModel",
     "state": {
      "_model_module": "@jupyter-widgets/controls",
      "_model_module_version": "1.5.0",
      "_model_name": "ProgressStyleModel",
      "_view_count": null,
      "_view_module": "@jupyter-widgets/base",
      "_view_module_version": "1.2.0",
      "_view_name": "StyleView",
      "bar_color": null,
      "description_width": "initial"
     }
    },
    "4e2bbae570524dfeae562fd20e1edd61": {
     "model_module": "@jupyter-widgets/controls",
     "model_name": "HBoxModel",
     "state": {
      "_dom_classes": [],
      "_model_module": "@jupyter-widgets/controls",
      "_model_module_version": "1.5.0",
      "_model_name": "HBoxModel",
      "_view_count": null,
      "_view_module": "@jupyter-widgets/controls",
      "_view_module_version": "1.5.0",
      "_view_name": "HBoxView",
      "box_style": "",
      "children": [
       "IPY_MODEL_1cda9fdd9e5043dbbe9685cdb9846606",
       "IPY_MODEL_3b8870490ae6449c8511b6cf88c74603"
      ],
      "layout": "IPY_MODEL_d621a8ec083e4fadbe2cd0ea82ce62d9"
     }
    },
    "4f53bd5c463a48488a5457c98809bf85": {
     "model_module": "@jupyter-widgets/base",
     "model_name": "LayoutModel",
     "state": {
      "_model_module": "@jupyter-widgets/base",
      "_model_module_version": "1.2.0",
      "_model_name": "LayoutModel",
      "_view_count": null,
      "_view_module": "@jupyter-widgets/base",
      "_view_module_version": "1.2.0",
      "_view_name": "LayoutView",
      "align_content": null,
      "align_items": null,
      "align_self": null,
      "border": null,
      "bottom": null,
      "display": null,
      "flex": null,
      "flex_flow": null,
      "grid_area": null,
      "grid_auto_columns": null,
      "grid_auto_flow": null,
      "grid_auto_rows": null,
      "grid_column": null,
      "grid_gap": null,
      "grid_row": null,
      "grid_template_areas": null,
      "grid_template_columns": null,
      "grid_template_rows": null,
      "height": null,
      "justify_content": null,
      "justify_items": null,
      "left": null,
      "margin": null,
      "max_height": null,
      "max_width": null,
      "min_height": null,
      "min_width": null,
      "object_fit": null,
      "object_position": null,
      "order": null,
      "overflow": null,
      "overflow_x": null,
      "overflow_y": null,
      "padding": null,
      "right": null,
      "top": null,
      "visibility": null,
      "width": null
     }
    },
    "527b3de890e349c8ad43783f87522ada": {
     "model_module": "@jupyter-widgets/base",
     "model_name": "LayoutModel",
     "state": {
      "_model_module": "@jupyter-widgets/base",
      "_model_module_version": "1.2.0",
      "_model_name": "LayoutModel",
      "_view_count": null,
      "_view_module": "@jupyter-widgets/base",
      "_view_module_version": "1.2.0",
      "_view_name": "LayoutView",
      "align_content": null,
      "align_items": null,
      "align_self": null,
      "border": null,
      "bottom": null,
      "display": null,
      "flex": null,
      "flex_flow": null,
      "grid_area": null,
      "grid_auto_columns": null,
      "grid_auto_flow": null,
      "grid_auto_rows": null,
      "grid_column": null,
      "grid_gap": null,
      "grid_row": null,
      "grid_template_areas": null,
      "grid_template_columns": null,
      "grid_template_rows": null,
      "height": null,
      "justify_content": null,
      "justify_items": null,
      "left": null,
      "margin": null,
      "max_height": null,
      "max_width": null,
      "min_height": null,
      "min_width": null,
      "object_fit": null,
      "object_position": null,
      "order": null,
      "overflow": null,
      "overflow_x": null,
      "overflow_y": null,
      "padding": null,
      "right": null,
      "top": null,
      "visibility": null,
      "width": null
     }
    },
    "5346d81c15884974b29917842e1652c4": {
     "model_module": "@jupyter-widgets/controls",
     "model_name": "DescriptionStyleModel",
     "state": {
      "_model_module": "@jupyter-widgets/controls",
      "_model_module_version": "1.5.0",
      "_model_name": "DescriptionStyleModel",
      "_view_count": null,
      "_view_module": "@jupyter-widgets/base",
      "_view_module_version": "1.2.0",
      "_view_name": "StyleView",
      "description_width": ""
     }
    },
    "7018b295a13a47abb209dd3beab1d031": {
     "model_module": "@jupyter-widgets/controls",
     "model_name": "HTMLModel",
     "state": {
      "_dom_classes": [],
      "_model_module": "@jupyter-widgets/controls",
      "_model_module_version": "1.5.0",
      "_model_name": "HTMLModel",
      "_view_count": null,
      "_view_module": "@jupyter-widgets/controls",
      "_view_module_version": "1.5.0",
      "_view_name": "HTMLView",
      "description": "",
      "description_tooltip": null,
      "layout": "IPY_MODEL_06f5e1e1e0dc4122ad91d75926f2d260",
      "placeholder": "​",
      "style": "IPY_MODEL_ace2a1c4ca1d402c8d76aa4c50b59529",
      "value": " 90/90 [00:03&lt;00:00, 29.55it/s]"
     }
    },
    "7288b490488c405cbf1b3e31af70905b": {
     "model_module": "@jupyter-widgets/base",
     "model_name": "LayoutModel",
     "state": {
      "_model_module": "@jupyter-widgets/base",
      "_model_module_version": "1.2.0",
      "_model_name": "LayoutModel",
      "_view_count": null,
      "_view_module": "@jupyter-widgets/base",
      "_view_module_version": "1.2.0",
      "_view_name": "LayoutView",
      "align_content": null,
      "align_items": null,
      "align_self": null,
      "border": null,
      "bottom": null,
      "display": null,
      "flex": null,
      "flex_flow": null,
      "grid_area": null,
      "grid_auto_columns": null,
      "grid_auto_flow": null,
      "grid_auto_rows": null,
      "grid_column": null,
      "grid_gap": null,
      "grid_row": null,
      "grid_template_areas": null,
      "grid_template_columns": null,
      "grid_template_rows": null,
      "height": null,
      "justify_content": null,
      "justify_items": null,
      "left": null,
      "margin": null,
      "max_height": null,
      "max_width": null,
      "min_height": null,
      "min_width": null,
      "object_fit": null,
      "object_position": null,
      "order": null,
      "overflow": null,
      "overflow_x": null,
      "overflow_y": null,
      "padding": null,
      "right": null,
      "top": null,
      "visibility": null,
      "width": null
     }
    },
    "7c3ab7e9134b44a387791aa675e077c5": {
     "model_module": "@jupyter-widgets/base",
     "model_name": "LayoutModel",
     "state": {
      "_model_module": "@jupyter-widgets/base",
      "_model_module_version": "1.2.0",
      "_model_name": "LayoutModel",
      "_view_count": null,
      "_view_module": "@jupyter-widgets/base",
      "_view_module_version": "1.2.0",
      "_view_name": "LayoutView",
      "align_content": null,
      "align_items": null,
      "align_self": null,
      "border": null,
      "bottom": null,
      "display": null,
      "flex": null,
      "flex_flow": null,
      "grid_area": null,
      "grid_auto_columns": null,
      "grid_auto_flow": null,
      "grid_auto_rows": null,
      "grid_column": null,
      "grid_gap": null,
      "grid_row": null,
      "grid_template_areas": null,
      "grid_template_columns": null,
      "grid_template_rows": null,
      "height": null,
      "justify_content": null,
      "justify_items": null,
      "left": null,
      "margin": null,
      "max_height": null,
      "max_width": null,
      "min_height": null,
      "min_width": null,
      "object_fit": null,
      "object_position": null,
      "order": null,
      "overflow": null,
      "overflow_x": null,
      "overflow_y": null,
      "padding": null,
      "right": null,
      "top": null,
      "visibility": null,
      "width": null
     }
    },
    "ace2a1c4ca1d402c8d76aa4c50b59529": {
     "model_module": "@jupyter-widgets/controls",
     "model_name": "DescriptionStyleModel",
     "state": {
      "_model_module": "@jupyter-widgets/controls",
      "_model_module_version": "1.5.0",
      "_model_name": "DescriptionStyleModel",
      "_view_count": null,
      "_view_module": "@jupyter-widgets/base",
      "_view_module_version": "1.2.0",
      "_view_name": "StyleView",
      "description_width": ""
     }
    },
    "b00ee07329ce42f1a4ecfd027dd0ef1e": {
     "model_module": "@jupyter-widgets/controls",
     "model_name": "HBoxModel",
     "state": {
      "_dom_classes": [],
      "_model_module": "@jupyter-widgets/controls",
      "_model_module_version": "1.5.0",
      "_model_name": "HBoxModel",
      "_view_count": null,
      "_view_module": "@jupyter-widgets/controls",
      "_view_module_version": "1.5.0",
      "_view_name": "HBoxView",
      "box_style": "",
      "children": [
       "IPY_MODEL_d6a9174c024e416a8067aa5cb210d348",
       "IPY_MODEL_cdf4db7e27c644c98d18f7cda84eb4af"
      ],
      "layout": "IPY_MODEL_0ecd70148d164ad490985f31dcaf70ea"
     }
    },
    "cdf4db7e27c644c98d18f7cda84eb4af": {
     "model_module": "@jupyter-widgets/controls",
     "model_name": "HTMLModel",
     "state": {
      "_dom_classes": [],
      "_model_module": "@jupyter-widgets/controls",
      "_model_module_version": "1.5.0",
      "_model_name": "HTMLModel",
      "_view_count": null,
      "_view_module": "@jupyter-widgets/controls",
      "_view_module_version": "1.5.0",
      "_view_name": "HTMLView",
      "description": "",
      "description_tooltip": null,
      "layout": "IPY_MODEL_7288b490488c405cbf1b3e31af70905b",
      "placeholder": "​",
      "style": "IPY_MODEL_10ed8347b9c54883845a875951b36928",
      "value": " 450/450 [00:18&lt;00:00, 24.86it/s]"
     }
    },
    "d4c6df6c4a63473ea7231be4f121ddab": {
     "model_module": "@jupyter-widgets/base",
     "model_name": "LayoutModel",
     "state": {
      "_model_module": "@jupyter-widgets/base",
      "_model_module_version": "1.2.0",
      "_model_name": "LayoutModel",
      "_view_count": null,
      "_view_module": "@jupyter-widgets/base",
      "_view_module_version": "1.2.0",
      "_view_name": "LayoutView",
      "align_content": null,
      "align_items": null,
      "align_self": null,
      "border": null,
      "bottom": null,
      "display": null,
      "flex": null,
      "flex_flow": null,
      "grid_area": null,
      "grid_auto_columns": null,
      "grid_auto_flow": null,
      "grid_auto_rows": null,
      "grid_column": null,
      "grid_gap": null,
      "grid_row": null,
      "grid_template_areas": null,
      "grid_template_columns": null,
      "grid_template_rows": null,
      "height": null,
      "justify_content": null,
      "justify_items": null,
      "left": null,
      "margin": null,
      "max_height": null,
      "max_width": null,
      "min_height": null,
      "min_width": null,
      "object_fit": null,
      "object_position": null,
      "order": null,
      "overflow": null,
      "overflow_x": null,
      "overflow_y": null,
      "padding": null,
      "right": null,
      "top": null,
      "visibility": null,
      "width": null
     }
    },
    "d621a8ec083e4fadbe2cd0ea82ce62d9": {
     "model_module": "@jupyter-widgets/base",
     "model_name": "LayoutModel",
     "state": {
      "_model_module": "@jupyter-widgets/base",
      "_model_module_version": "1.2.0",
      "_model_name": "LayoutModel",
      "_view_count": null,
      "_view_module": "@jupyter-widgets/base",
      "_view_module_version": "1.2.0",
      "_view_name": "LayoutView",
      "align_content": null,
      "align_items": null,
      "align_self": null,
      "border": null,
      "bottom": null,
      "display": null,
      "flex": null,
      "flex_flow": null,
      "grid_area": null,
      "grid_auto_columns": null,
      "grid_auto_flow": null,
      "grid_auto_rows": null,
      "grid_column": null,
      "grid_gap": null,
      "grid_row": null,
      "grid_template_areas": null,
      "grid_template_columns": null,
      "grid_template_rows": null,
      "height": null,
      "justify_content": null,
      "justify_items": null,
      "left": null,
      "margin": null,
      "max_height": null,
      "max_width": null,
      "min_height": null,
      "min_width": null,
      "object_fit": null,
      "object_position": null,
      "order": null,
      "overflow": null,
      "overflow_x": null,
      "overflow_y": null,
      "padding": null,
      "right": null,
      "top": null,
      "visibility": null,
      "width": null
     }
    },
    "d6a9174c024e416a8067aa5cb210d348": {
     "model_module": "@jupyter-widgets/controls",
     "model_name": "FloatProgressModel",
     "state": {
      "_dom_classes": [],
      "_model_module": "@jupyter-widgets/controls",
      "_model_module_version": "1.5.0",
      "_model_name": "FloatProgressModel",
      "_view_count": null,
      "_view_module": "@jupyter-widgets/controls",
      "_view_module_version": "1.5.0",
      "_view_name": "ProgressView",
      "bar_style": "success",
      "description": "100%",
      "description_tooltip": null,
      "layout": "IPY_MODEL_4f53bd5c463a48488a5457c98809bf85",
      "max": 450,
      "min": 0,
      "orientation": "horizontal",
      "style": "IPY_MODEL_2c781fca134f41df9a074f2c847466c9",
      "value": 450
     }
    },
    "ea69abbfee9c444fa1b5f4cae97cdeee": {
     "model_module": "@jupyter-widgets/controls",
     "model_name": "FloatProgressModel",
     "state": {
      "_dom_classes": [],
      "_model_module": "@jupyter-widgets/controls",
      "_model_module_version": "1.5.0",
      "_model_name": "FloatProgressModel",
      "_view_count": null,
      "_view_module": "@jupyter-widgets/controls",
      "_view_module_version": "1.5.0",
      "_view_name": "ProgressView",
      "bar_style": "success",
      "description": "100%",
      "description_tooltip": null,
      "layout": "IPY_MODEL_527b3de890e349c8ad43783f87522ada",
      "max": 90,
      "min": 0,
      "orientation": "horizontal",
      "style": "IPY_MODEL_435f74a3784840ea8b4551f8e5d77b75",
      "value": 90
     }
    }
   }
  }
 },
 "nbformat": 4,
 "nbformat_minor": 1
}
