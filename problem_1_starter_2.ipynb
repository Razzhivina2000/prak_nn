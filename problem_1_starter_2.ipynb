{
 "cells": [
  {
   "cell_type": "markdown",
   "metadata": {
    "id": "atqZGIIyNSBb"
   },
   "source": [
    "#**Практическое задание №1**"
   ]
  },
  {
   "cell_type": "markdown",
   "metadata": {
    "id": "ga5g3lUhNNBy"
   },
   "source": [
    "Установка необходимых пакетов:"
   ]
  },
  {
   "cell_type": "code",
   "execution_count": 1,
   "metadata": {
    "colab": {
     "base_uri": "https://localhost:8080/"
    },
    "id": "TGBk36LpukIu",
    "outputId": "c790b440-f4c1-4612-9c1d-467688511284"
   },
   "outputs": [
    {
     "name": "stdout",
     "output_type": "stream",
     "text": [
      "\u001b[?25l\r",
      "\u001b[K     |██▌                             | 10kB 13.8MB/s eta 0:00:01\r",
      "\u001b[K     |█████                           | 20kB 19.7MB/s eta 0:00:01\r",
      "\u001b[K     |███████▋                        | 30kB 21.6MB/s eta 0:00:01\r",
      "\u001b[K     |██████████                      | 40kB 16.7MB/s eta 0:00:01\r",
      "\u001b[K     |████████████▋                   | 51kB 12.7MB/s eta 0:00:01\r",
      "\u001b[K     |███████████████▏                | 61kB 13.5MB/s eta 0:00:01\r",
      "\u001b[K     |█████████████████▋              | 71kB 9.8MB/s eta 0:00:01\r",
      "\u001b[K     |████████████████████▏           | 81kB 10.7MB/s eta 0:00:01\r",
      "\u001b[K     |██████████████████████▊         | 92kB 10.9MB/s eta 0:00:01\r",
      "\u001b[K     |█████████████████████████▏      | 102kB 10.5MB/s eta 0:00:01\r",
      "\u001b[K     |███████████████████████████▊    | 112kB 10.5MB/s eta 0:00:01\r",
      "\u001b[K     |██████████████████████████████▎ | 122kB 10.5MB/s eta 0:00:01\r",
      "\u001b[K     |████████████████████████████████| 133kB 10.5MB/s \n",
      "\u001b[?25h  Building wheel for libtiff (setup.py) ... \u001b[?25l\u001b[?25hdone\n"
     ]
    }
   ],
   "source": [
    "!pip install -q libtiff\n",
    "!pip install -q tqdm"
   ]
  },
  {
   "cell_type": "markdown",
   "metadata": {
    "id": "2vQDLyHEO1Ux"
   },
   "source": [
    "Монтирование Вашего Google Drive к текущему окружению:"
   ]
  },
  {
   "cell_type": "code",
   "execution_count": 2,
   "metadata": {
    "colab": {
     "base_uri": "https://localhost:8080/"
    },
    "id": "5G5KkA1Nu5M9",
    "outputId": "1d0623c0-7fa4-4af2-8076-756bda0fd629"
   },
   "outputs": [
    {
     "name": "stdout",
     "output_type": "stream",
     "text": [
      "Mounted at /content/drive\n"
     ]
    }
   ],
   "source": [
    "from google.colab import drive\n",
    "drive.mount('/content/drive', force_remount=True)"
   ]
  },
  {
   "cell_type": "markdown",
   "metadata": {
    "id": "E6-mtI6W1y1b"
   },
   "source": [
    "В переменную PROJECT_DIR необходимо прописать путь к директории на Google Drive, в которую Вы загрузили zip архивы с предоставленными наборами данных."
   ]
  },
  {
   "cell_type": "code",
   "execution_count": 3,
   "metadata": {
    "id": "IdvM-BUTvfSV"
   },
   "outputs": [],
   "source": [
    "# todo\n",
    "PROJECT_DIR = 'nn/'"
   ]
  },
  {
   "cell_type": "markdown",
   "metadata": {
    "id": "0Num5lHV6912"
   },
   "source": [
    "Константы, которые пригодятся в коде далее:"
   ]
  },
  {
   "cell_type": "code",
   "execution_count": 4,
   "metadata": {
    "id": "ab2yCwDm7Fqb"
   },
   "outputs": [],
   "source": [
    "EVALUATE_ONLY = True\n",
    "TEST_ON_LARGE_DATASET = True\n",
    "TISSUE_CLASSES = ('ADI', 'BACK', 'DEB', 'LYM', 'MUC', 'MUS', 'NORM', 'STR', 'TUM')"
   ]
  },
  {
   "cell_type": "markdown",
   "metadata": {
    "id": "fgY-ux5qOI0k"
   },
   "source": [
    "Импорт необходимых зависимостей:"
   ]
  },
  {
   "cell_type": "code",
   "execution_count": 5,
   "metadata": {
    "id": "kLHQhqiSIyvK"
   },
   "outputs": [],
   "source": [
    "from pathlib import Path\n",
    "from libtiff import TIFF\n",
    "import numpy as np\n",
    "from typing import List\n",
    "from tqdm.notebook import tqdm\n",
    "from time import sleep\n",
    "from PIL import Image\n",
    "import IPython.display\n",
    "from sklearn.metrics import balanced_accuracy_score\n",
    "import tensorflow as tf\n",
    "from sklearn.model_selection import train_test_split\n",
    "import matplotlib.pyplot as plt\n",
    "from keras.layers.normalization import BatchNormalization"
   ]
  },
  {
   "cell_type": "markdown",
   "metadata": {
    "id": "zKLI3lUyMYO9"
   },
   "source": [
    "---\n",
    "### Класс Dataset\n",
    "\n",
    "Предназначен для работы с наборами данных, хранящихся на Google Drive, обеспечивает чтение изображений и соответствующих меток, а также формирование пакетов (батчей)."
   ]
  },
  {
   "cell_type": "code",
   "execution_count": 6,
   "metadata": {
    "id": "8N169efsw1ej"
   },
   "outputs": [],
   "source": [
    "class Dataset:\n",
    "\n",
    "    def __init__(self, name, gdrive_dir):\n",
    "        self.name = name\n",
    "        self.is_loaded = False\n",
    "        p = Path(\"/content/drive/MyDrive/\" + gdrive_dir + name + '.npz') \n",
    "        if p.exists():\n",
    "            print(f'Loading dataset {self.name} from npz.')\n",
    "            np_obj = np.load(str(p))\n",
    "            self.images = np_obj['data']\n",
    "            self.labels = np_obj['labels']\n",
    "            self.n_files = self.images.shape[0]\n",
    "            self.is_loaded = True\n",
    "            print(f'Done. Dataset {name} consists of {self.n_files} images.')\n",
    "\n",
    "    def image(self, i):\n",
    "        # read i-th image in dataset and return it as numpy array\n",
    "        if self.is_loaded:\n",
    "            return self.images[i, :, :, :]\n",
    "\n",
    "    def images_seq(self, n=None):\n",
    "        # sequential access to images inside dataset (is needed for testing)\n",
    "        for i in range(self.n_files if not n else n):\n",
    "            yield self.image(i)\n",
    "\n",
    "    def random_image_with_label(self):\n",
    "        # get random image with label from dataset\n",
    "        i = np.random.randint(self.n_files)\n",
    "        return self.image(i), self.labels[i]\n",
    "  \n",
    "    def random_batch_with_labels(self, n):\n",
    "        # create random batch of images with labels (is needed for training)\n",
    "        indices = np.random.choice(self.n_files, n)\n",
    "        imgs = []\n",
    "        for i in indices:\n",
    "            img = self.image(i)\n",
    "            imgs.append(self.image(i))\n",
    "        logits = np.array([self.labels[i] for i in indices])\n",
    "        return np.stack(imgs), logits\n",
    "\n",
    "    def image_with_label(self, i: int):\n",
    "        # return i-th image with label from dataset\n",
    "        return self.image(i), self.labels[i]"
   ]
  },
  {
   "cell_type": "markdown",
   "metadata": {
    "id": "M-LvGqeHYgus"
   },
   "source": [
    "### Пример использвания класса Dataset\n",
    "Загрузим обучающий набор данных, получим произвольное изображение с меткой. После чего визуализируем изображение, выведем метку. В будущем, этот кусок кода можно закомментировать или убрать."
   ]
  },
  {
   "cell_type": "code",
   "execution_count": 7,
   "metadata": {
    "id": "HhObWEjGJ1um"
   },
   "outputs": [],
   "source": [
    "# d_train_tiny = Dataset('train_tiny', PROJECT_DIR)\n",
    "\n",
    "# img, lbl = d_train_tiny.random_image_with_label()\n",
    "# print()\n",
    "# print(f'Got numpy array of shape {img.shape}, and label with code {lbl}.')\n",
    "# print(f'Label code corresponds to {TISSUE_CLASSES[lbl]} class.')\n",
    "\n",
    "# pil_img = Image.fromarray(img)\n",
    "# IPython.display.display(pil_img)"
   ]
  },
  {
   "cell_type": "markdown",
   "metadata": {
    "id": "qaBXXCWeVLYb"
   },
   "source": [
    "---\n",
    "### Класс Metrics\n",
    "\n",
    "Реализует метрики точности, используемые для оценивания модели:\n",
    "1. точность,\n",
    "2. сбалансированную точность."
   ]
  },
  {
   "cell_type": "code",
   "execution_count": 8,
   "metadata": {
    "id": "5unQ7azTinCZ"
   },
   "outputs": [],
   "source": [
    "class Metrics:\n",
    "\n",
    "    @staticmethod\n",
    "    def accuracy(gt: List[int], pred: List[int]):\n",
    "        assert len(gt) == len(pred), 'gt and prediction should be of equal length'\n",
    "        return sum(int(i[0] == i[1]) for i in zip(gt, pred)) / len(gt)\n",
    "\n",
    "    @staticmethod\n",
    "    def accuracy_balanced(gt: List[int], pred: List[int]):\n",
    "        return balanced_accuracy_score(gt, pred)\n",
    "\n",
    "    @staticmethod\n",
    "    def print_all(gt: List[int], pred: List[int], info: str):\n",
    "        print(f'metrics for {info}:')\n",
    "        print('\\t accuracy {:.4f}:'.format(Metrics.accuracy(gt, pred)))\n",
    "        print('\\t balanced accuracy {:.4f}:'.format(Metrics.accuracy_balanced(gt, pred)))"
   ]
  },
  {
   "cell_type": "markdown",
   "metadata": {
    "id": "N1AHzTJVGU5k"
   },
   "source": [
    "---\n",
    "### Класс Model\n",
    "\n",
    "Класс, хранящий в себе всю информацию о модели.\n",
    "\n",
    "Вам необходимо реализовать методы save, load для сохранения и заргрузки модели. Особенно актуально это будет во время тестирования на дополнительных наборах данных.\n",
    "\n",
    "> *Пожалуйста, убедитесь, что сохранение и загрузка модели работает корректно. Для этого обучите модель, протестируйте, сохраните ее в файл, перезапустите среду выполнения, загрузите обученную модель из файла, вновь протестируйте ее на тестовой выборке и убедитесь в том, что получаемые метрики совпадают с полученными для тестовой выбрки ранее.*\n",
    "\n",
    "\n",
    "Также, Вы можете реализовать дополнительные функции, такие как:\n",
    "1. валидацию модели на части обучающей выборки;\n",
    "2. использование кроссвалидации;\n",
    "3. автоматическое сохранение модели при обучении;\n",
    "4. загрузку модели с какой-то конкретной итерации обучения (если используется итеративное обучение);\n",
    "5. вывод различных показателей в процессе обучения (например, значение функции потерь на каждой эпохе);\n",
    "6. построение графиков, визуализирующих процесс обучения (например, график зависимости функции потерь от номера эпохи обучения);\n",
    "7. автоматическое тестирование на тестовом наборе/наборах данных после каждой эпохи обучения (при использовании итеративного обучения);\n",
    "8. автоматический выбор гиперпараметров модели во время обучения;\n",
    "9. сохранение и визуализацию результатов тестирования;\n",
    "10. Использование аугментации и других способов синтетического расширения набора данных (дополнительным плюсом будет обоснование необходимости и обоснование выбора конкретных типов аугментации)\n",
    "11. и т.д.\n",
    "\n",
    "Полный список опций и дополнений приведен в презентации с описанием задания.\n",
    "\n",
    "При реализации дополнительных функций допускается добавление параметров в существующие методы и добавление новых методов в класс модели."
   ]
  },
  {
   "cell_type": "code",
   "execution_count": 9,
   "metadata": {
    "id": "0pkMiB6mJ7JQ"
   },
   "outputs": [],
   "source": [
    "class Model:\n",
    "\n",
    "    def __init__(self):\n",
    "        self.classifier = tf.keras.models.Sequential([\n",
    "          tf.keras.layers.Conv2D(filters=64, kernel_size=3, padding='same', activation='relu', input_shape=(224, 224, 3)),\n",
    "          tf.keras.layers.Conv2D(filters=64, kernel_size=3, padding='same', activation='relu'),\n",
    "          tf.keras.layers.MaxPooling2D(pool_size=(4,4)),\n",
    "          tf.keras.layers.Dropout(0.1),\n",
    "          tf.keras.layers.Conv2D(filters=64, kernel_size=3, padding='same', activation='relu'),\n",
    "          tf.keras.layers.Conv2D(filters=64, kernel_size=3, padding='same', activation='relu'),\n",
    "          tf.keras.layers.MaxPooling2D(pool_size=(4,4)),\n",
    "          tf.keras.layers.Dropout(0.1),\n",
    "          tf.keras.layers.Conv2D(filters=32, kernel_size=3, padding='same', activation='relu'),\n",
    "          tf.keras.layers.MaxPooling2D(pool_size=(2,2)),\n",
    "          tf.keras.layers.Dropout(0.1),\n",
    "          tf.keras.layers.Conv2D(filters=32, kernel_size=3, padding='same', activation='relu'),\n",
    "          tf.keras.layers.MaxPooling2D(pool_size=(2,2)),\n",
    "          tf.keras.layers.Flatten(),\n",
    "          tf.keras.layers.Dropout(0.1),\n",
    "          tf.keras.layers.Dense(1024, activation='relu'),\n",
    "          tf.keras.layers.Dropout(0.1),\n",
    "          tf.keras.layers.Dense(512, activation='relu'),\n",
    "          tf.keras.layers.Dropout(0.1),\n",
    "          tf.keras.layers.Dense(128, activation='relu'),\n",
    "          tf.keras.layers.Dropout(0.1),\n",
    "          tf.keras.layers.Dense(10, activation='softmax')\n",
    "        ])\n",
    "        pass\n",
    "\n",
    "    def save(self, name: str):\n",
    "        # save model to PROJECT_DIR folder on gdrive with name 'name'\n",
    "        self.classifier.save(\"/content/drive/MyDrive/\" + PROJECT_DIR + name + '.h5')\n",
    "\n",
    "    def load(self, name: str):\n",
    "        # load model with name 'name' from PROJECT_DIR folder on gdrive\n",
    "        p = Path(\"/content/drive/MyDrive/\" + PROJECT_DIR + name + '.h5') \n",
    "        if p.exists():\n",
    "          print(f'Loading model {name}')\n",
    "          self.classifier = tf.keras.models.load_model(\"/content/drive/MyDrive/\" + PROJECT_DIR + name + '.h5')\n",
    "\n",
    "    def train(self, dataset: Dataset):\n",
    "        # you can add some plots for better visualization,\n",
    "        # you can add model autosaving during training,\n",
    "        # etc.\n",
    "        print(f'training started')\n",
    "        self.classifier.compile(optimizer='adam',\n",
    "              loss='sparse_categorical_crossentropy',\n",
    "              metrics=['accuracy'])\n",
    "        #LBL1\n",
    "        x_train, x_test, y_train, y_test = train_test_split(dataset.images, dataset.labels, test_size=0.1)\n",
    "        self.history = self.classifier.fit(x_train, y_train, epochs=50, batch_size=64, validation_data=(x_test, y_test))\n",
    "        sleep(2)\n",
    "        print(f'training done')\n",
    "\n",
    "    def visual(self):\n",
    "        #LBL3\n",
    "        plt.plot(self.history.history['accuracy'])\n",
    "        plt.plot(self.history.history['val_accuracy'])\n",
    "        plt.title('model accuracy')\n",
    "        plt.ylabel('accuracy')\n",
    "        plt.xlabel('epoch')\n",
    "        plt.legend(['train', 'validation'], loc='upper left')\n",
    "        plt.show()\n",
    "\n",
    "        plt.plot(self.history.history['loss'])\n",
    "        plt.plot(self.history.history['val_loss'])\n",
    "        plt.title('model loss')\n",
    "        plt.ylabel('loss')\n",
    "        plt.xlabel('epoch')\n",
    "        plt.legend(['train', 'validation'], loc='upper left')\n",
    "        plt.show()\n",
    "\n",
    "    def show_history(self):\n",
    "        #LBL2\n",
    "        return self.history.history\n",
    "\n",
    "    def test_on_dataset(self, dataset: Dataset, limit=None):\n",
    "        # you can upgrade this code if you want to speed up testing using batches\n",
    "        n = dataset.n_files if not limit else int(dataset.n_files * limit)\n",
    "        images, labels = d_test.random_batch_with_labels(n)\n",
    "        predictions = self.classifier.predict(images).argmax(axis=1)\n",
    "        return predictions, labels\n",
    "\n",
    "    def test_on_image(self, img: np.ndarray):\n",
    "        # todo: replace this code\n",
    "        pass\n"
   ]
  },
  {
   "cell_type": "markdown",
   "metadata": {
    "id": "ZMpTB6lMr00A"
   },
   "source": [
    "---\n",
    "### Классификация изображений\n",
    "\n",
    "Используя введенные выше классы можем перейти уже непосредственно к обучению модели классификации изображений. Пример общего пайплайна решения задачи приведен ниже. Вы можете его расширять и улучшать. В данном примере используются наборы данных 'train_small' и 'test_small'."
   ]
  },
  {
   "cell_type": "code",
   "execution_count": 10,
   "metadata": {
    "colab": {
     "base_uri": "https://localhost:8080/"
    },
    "id": "5cTOuZD01Up6",
    "outputId": "b023b03a-ce07-40c9-b80c-0d80f7397d51"
   },
   "outputs": [
    {
     "name": "stdout",
     "output_type": "stream",
     "text": [
      "Loading dataset train from npz.\n",
      "Done. Dataset train consists of 18000 images.\n",
      "Loading dataset test from npz.\n",
      "Done. Dataset test consists of 4500 images.\n"
     ]
    }
   ],
   "source": [
    "d_train = Dataset('train', PROJECT_DIR)\n",
    "d_test = Dataset('test', PROJECT_DIR)"
   ]
  },
  {
   "cell_type": "code",
   "execution_count": 11,
   "metadata": {
    "colab": {
     "base_uri": "https://localhost:8080/"
    },
    "id": "p9sgbp2qs8du",
    "outputId": "cb575c44-0487-450a-de67-bac0ca7e35c6",
    "scrolled": false
   },
   "outputs": [
    {
     "name": "stdout",
     "output_type": "stream",
     "text": [
      "training started\n",
      "Epoch 1/50\n",
      "254/254 [==============================] - 130s 471ms/step - loss: 2.9841 - accuracy: 0.1754 - val_loss: 1.5973 - val_accuracy: 0.4467\n",
      "Epoch 2/50\n",
      "254/254 [==============================] - 118s 465ms/step - loss: 1.2656 - accuracy: 0.5123 - val_loss: 1.2656 - val_accuracy: 0.5033\n",
      "Epoch 3/50\n",
      "254/254 [==============================] - 118s 465ms/step - loss: 1.0334 - accuracy: 0.6026 - val_loss: 0.7972 - val_accuracy: 0.7017\n",
      "Epoch 4/50\n",
      "254/254 [==============================] - 118s 464ms/step - loss: 0.8597 - accuracy: 0.6834 - val_loss: 0.8086 - val_accuracy: 0.6939\n",
      "Epoch 5/50\n",
      "254/254 [==============================] - 118s 464ms/step - loss: 0.6853 - accuracy: 0.7507 - val_loss: 1.3214 - val_accuracy: 0.6022\n",
      "Epoch 6/50\n",
      "254/254 [==============================] - 118s 463ms/step - loss: 0.7596 - accuracy: 0.7293 - val_loss: 0.4091 - val_accuracy: 0.8578\n",
      "Epoch 7/50\n",
      "254/254 [==============================] - 118s 463ms/step - loss: 0.4428 - accuracy: 0.8524 - val_loss: 0.3432 - val_accuracy: 0.8800\n",
      "Epoch 8/50\n",
      "254/254 [==============================] - 118s 463ms/step - loss: 0.3940 - accuracy: 0.8669 - val_loss: 0.5924 - val_accuracy: 0.7900\n",
      "Epoch 9/50\n",
      "254/254 [==============================] - 117s 462ms/step - loss: 0.4142 - accuracy: 0.8598 - val_loss: 0.2627 - val_accuracy: 0.9217\n",
      "Epoch 10/50\n",
      "254/254 [==============================] - 117s 462ms/step - loss: 0.3326 - accuracy: 0.8860 - val_loss: 0.3773 - val_accuracy: 0.8783\n",
      "Epoch 11/50\n",
      "254/254 [==============================] - 117s 462ms/step - loss: 0.3142 - accuracy: 0.8982 - val_loss: 0.2072 - val_accuracy: 0.9344\n",
      "Epoch 12/50\n",
      "254/254 [==============================] - 117s 462ms/step - loss: 0.2567 - accuracy: 0.9127 - val_loss: 0.2090 - val_accuracy: 0.9344\n",
      "Epoch 13/50\n",
      "254/254 [==============================] - 117s 462ms/step - loss: 0.2443 - accuracy: 0.9169 - val_loss: 0.3016 - val_accuracy: 0.8956\n",
      "Epoch 14/50\n",
      "254/254 [==============================] - 117s 462ms/step - loss: 0.2370 - accuracy: 0.9234 - val_loss: 0.2645 - val_accuracy: 0.9239\n",
      "Epoch 15/50\n",
      "254/254 [==============================] - 117s 462ms/step - loss: 0.2250 - accuracy: 0.9261 - val_loss: 0.1762 - val_accuracy: 0.9478\n",
      "Epoch 16/50\n",
      "254/254 [==============================] - 117s 461ms/step - loss: 0.1816 - accuracy: 0.9413 - val_loss: 0.2522 - val_accuracy: 0.9189\n",
      "Epoch 17/50\n",
      "254/254 [==============================] - 117s 462ms/step - loss: 0.2007 - accuracy: 0.9341 - val_loss: 0.2353 - val_accuracy: 0.9256\n",
      "Epoch 18/50\n",
      "254/254 [==============================] - 117s 461ms/step - loss: 0.1821 - accuracy: 0.9394 - val_loss: 0.2518 - val_accuracy: 0.9222\n",
      "Epoch 19/50\n",
      "254/254 [==============================] - 117s 461ms/step - loss: 0.2359 - accuracy: 0.9264 - val_loss: 0.2379 - val_accuracy: 0.9261\n",
      "Epoch 20/50\n",
      "254/254 [==============================] - 117s 461ms/step - loss: 0.1922 - accuracy: 0.9363 - val_loss: 0.2898 - val_accuracy: 0.9111\n",
      "Epoch 21/50\n",
      "254/254 [==============================] - 117s 461ms/step - loss: 0.2069 - accuracy: 0.9311 - val_loss: 0.1931 - val_accuracy: 0.9394\n",
      "Epoch 22/50\n",
      "254/254 [==============================] - 117s 461ms/step - loss: 0.1415 - accuracy: 0.9516 - val_loss: 0.2323 - val_accuracy: 0.9328\n",
      "Epoch 23/50\n",
      "254/254 [==============================] - 117s 460ms/step - loss: 0.1866 - accuracy: 0.9382 - val_loss: 0.2055 - val_accuracy: 0.9467\n",
      "Epoch 24/50\n",
      "254/254 [==============================] - 117s 461ms/step - loss: 0.1686 - accuracy: 0.9453 - val_loss: 0.1910 - val_accuracy: 0.9456\n",
      "Epoch 25/50\n",
      "254/254 [==============================] - 117s 461ms/step - loss: 0.1286 - accuracy: 0.9596 - val_loss: 0.1538 - val_accuracy: 0.9600\n",
      "Epoch 26/50\n",
      "254/254 [==============================] - 117s 460ms/step - loss: 0.1578 - accuracy: 0.9461 - val_loss: 0.2245 - val_accuracy: 0.9239\n",
      "Epoch 27/50\n",
      "254/254 [==============================] - 117s 461ms/step - loss: 0.1676 - accuracy: 0.9425 - val_loss: 0.1737 - val_accuracy: 0.9461\n",
      "Epoch 28/50\n",
      "254/254 [==============================] - 117s 460ms/step - loss: 0.1966 - accuracy: 0.9342 - val_loss: 0.1457 - val_accuracy: 0.9550\n",
      "Epoch 29/50\n",
      "254/254 [==============================] - 117s 461ms/step - loss: 0.1180 - accuracy: 0.9631 - val_loss: 0.2114 - val_accuracy: 0.9350\n",
      "Epoch 30/50\n",
      "254/254 [==============================] - 117s 460ms/step - loss: 0.1509 - accuracy: 0.9531 - val_loss: 0.1554 - val_accuracy: 0.9556\n",
      "Epoch 31/50\n",
      "254/254 [==============================] - 117s 461ms/step - loss: 0.1408 - accuracy: 0.9530 - val_loss: 0.1834 - val_accuracy: 0.9411\n",
      "Epoch 32/50\n",
      "254/254 [==============================] - 117s 460ms/step - loss: 0.1329 - accuracy: 0.9570 - val_loss: 0.1494 - val_accuracy: 0.9611\n",
      "Epoch 33/50\n",
      "254/254 [==============================] - 117s 460ms/step - loss: 0.1098 - accuracy: 0.9645 - val_loss: 0.1589 - val_accuracy: 0.9550\n",
      "Epoch 34/50\n",
      "254/254 [==============================] - 117s 460ms/step - loss: 0.1581 - accuracy: 0.9481 - val_loss: 0.1884 - val_accuracy: 0.9428\n",
      "Epoch 35/50\n",
      "254/254 [==============================] - 117s 460ms/step - loss: 0.1533 - accuracy: 0.9503 - val_loss: 0.1590 - val_accuracy: 0.9556\n",
      "Epoch 36/50\n",
      "254/254 [==============================] - 117s 460ms/step - loss: 0.1066 - accuracy: 0.9656 - val_loss: 0.1868 - val_accuracy: 0.9528\n",
      "Epoch 37/50\n",
      "254/254 [==============================] - 117s 460ms/step - loss: 0.1187 - accuracy: 0.9631 - val_loss: 0.1664 - val_accuracy: 0.9494\n",
      "Epoch 38/50\n",
      "254/254 [==============================] - 117s 460ms/step - loss: 0.1183 - accuracy: 0.9625 - val_loss: 0.1990 - val_accuracy: 0.9444\n",
      "Epoch 39/50\n",
      "254/254 [==============================] - 117s 460ms/step - loss: 0.1467 - accuracy: 0.9564 - val_loss: 0.2067 - val_accuracy: 0.9361\n",
      "Epoch 40/50\n",
      "254/254 [==============================] - 117s 460ms/step - loss: 0.1390 - accuracy: 0.9558 - val_loss: 0.1686 - val_accuracy: 0.9567\n",
      "Epoch 41/50\n",
      "254/254 [==============================] - 117s 460ms/step - loss: 0.1084 - accuracy: 0.9640 - val_loss: 0.1389 - val_accuracy: 0.9606\n",
      "Epoch 42/50\n",
      "254/254 [==============================] - 117s 460ms/step - loss: 0.1071 - accuracy: 0.9700 - val_loss: 0.2652 - val_accuracy: 0.9478\n",
      "Epoch 43/50\n",
      "254/254 [==============================] - 117s 460ms/step - loss: 0.1204 - accuracy: 0.9645 - val_loss: 0.1482 - val_accuracy: 0.9583\n",
      "Epoch 44/50\n",
      "254/254 [==============================] - 117s 460ms/step - loss: 0.0988 - accuracy: 0.9695 - val_loss: 0.2134 - val_accuracy: 0.9456\n",
      "Epoch 45/50\n",
      "254/254 [==============================] - 117s 460ms/step - loss: 0.1281 - accuracy: 0.9585 - val_loss: 0.1794 - val_accuracy: 0.9533\n",
      "Epoch 46/50\n",
      "254/254 [==============================] - 117s 460ms/step - loss: 0.1153 - accuracy: 0.9640 - val_loss: 0.1458 - val_accuracy: 0.9578\n",
      "Epoch 47/50\n",
      "254/254 [==============================] - 117s 460ms/step - loss: 0.0918 - accuracy: 0.9713 - val_loss: 0.1611 - val_accuracy: 0.9556\n",
      "Epoch 48/50\n",
      "254/254 [==============================] - 117s 460ms/step - loss: 0.1092 - accuracy: 0.9666 - val_loss: 0.2268 - val_accuracy: 0.9439\n",
      "Epoch 49/50\n",
      "254/254 [==============================] - 117s 460ms/step - loss: 0.1283 - accuracy: 0.9617 - val_loss: 0.1525 - val_accuracy: 0.9633\n",
      "Epoch 50/50\n",
      "254/254 [==============================] - 117s 460ms/step - loss: 0.0992 - accuracy: 0.9692 - val_loss: 0.1680 - val_accuracy: 0.9639\n",
      "training done\n"
     ]
    }
   ],
   "source": [
    "model = Model()\n",
    " \n",
    "model.train(d_train);"
   ]
  },
  {
   "cell_type": "code",
   "execution_count": 13,
   "metadata": {
    "colab": {
     "base_uri": "https://localhost:8080/",
     "height": 573
    },
    "id": "IWFX-3AxpPop",
    "outputId": "1544c5ef-62c2-4bda-d064-550fd7bb1be0"
   },
   "outputs": [
    {
     "data": {
      "image/png": "[encoded data removed]",
      "text/plain": [
       "<Figure size 432x288 with 1 Axes>"
      ]
     },
     "metadata": {
      "needs_background": "light",
      "tags": []
     },
     "output_type": "display_data"
    },
    {
     "data": {
      "image/png": "[encoded data removed]",
      "text/plain": [
       "<Figure size 432x288 with 1 Axes>"
      ]
     },
     "metadata": {
      "needs_background": "light",
      "tags": []
     },
     "output_type": "display_data"
    }
   ],
   "source": [
    "model.visual()"
   ]
  },
  {
   "cell_type": "code",
   "execution_count": 17,
   "metadata": {
    "id": "1XXfZu2as9BY"
   },
   "outputs": [],
   "source": [
    "model.save('best')"
   ]
  },
  {
   "cell_type": "code",
   "execution_count": 18,
   "metadata": {
    "colab": {
     "base_uri": "https://localhost:8080/"
    },
    "id": "0k-Zm1iCDCyc",
    "outputId": "b4aadf86-efa0-43f1-f023-1f6cee625e8c"
   },
   "outputs": [
    {
     "name": "stdout",
     "output_type": "stream",
     "text": [
      "Model: \"sequential\"\n",
      "_________________________________________________________________\n",
      "Layer (type)                 Output Shape              Param #   \n",
      "=================================================================\n",
      "conv2d (Conv2D)              (None, 224, 224, 64)      1792      \n",
      "_________________________________________________________________\n",
      "conv2d_1 (Conv2D)            (None, 224, 224, 64)      36928     \n",
      "_________________________________________________________________\n",
      "max_pooling2d (MaxPooling2D) (None, 56, 56, 64)        0         \n",
      "_________________________________________________________________\n",
      "dropout (Dropout)            (None, 56, 56, 64)        0         \n",
      "_________________________________________________________________\n",
      "conv2d_2 (Conv2D)            (None, 56, 56, 64)        36928     \n",
      "_________________________________________________________________\n",
      "conv2d_3 (Conv2D)            (None, 56, 56, 64)        36928     \n",
      "_________________________________________________________________\n",
      "max_pooling2d_1 (MaxPooling2 (None, 14, 14, 64)        0         \n",
      "_________________________________________________________________\n",
      "dropout_1 (Dropout)          (None, 14, 14, 64)        0         \n",
      "_________________________________________________________________\n",
      "conv2d_4 (Conv2D)            (None, 14, 14, 32)        18464     \n",
      "_________________________________________________________________\n",
      "max_pooling2d_2 (MaxPooling2 (None, 7, 7, 32)          0         \n",
      "_________________________________________________________________\n",
      "dropout_2 (Dropout)          (None, 7, 7, 32)          0         \n",
      "_________________________________________________________________\n",
      "conv2d_5 (Conv2D)            (None, 7, 7, 32)          9248      \n",
      "_________________________________________________________________\n",
      "max_pooling2d_3 (MaxPooling2 (None, 3, 3, 32)          0         \n",
      "_________________________________________________________________\n",
      "flatten (Flatten)            (None, 288)               0         \n",
      "_________________________________________________________________\n",
      "dropout_3 (Dropout)          (None, 288)               0         \n",
      "_________________________________________________________________\n",
      "dense (Dense)                (None, 1024)              295936    \n",
      "_________________________________________________________________\n",
      "dropout_4 (Dropout)          (None, 1024)              0         \n",
      "_________________________________________________________________\n",
      "dense_1 (Dense)              (None, 512)               524800    \n",
      "_________________________________________________________________\n",
      "dropout_5 (Dropout)          (None, 512)               0         \n",
      "_________________________________________________________________\n",
      "dense_2 (Dense)              (None, 128)               65664     \n",
      "_________________________________________________________________\n",
      "dropout_6 (Dropout)          (None, 128)               0         \n",
      "_________________________________________________________________\n",
      "dense_3 (Dense)              (None, 10)                1290      \n",
      "=================================================================\n",
      "Total params: 1,027,978\n",
      "Trainable params: 1,027,978\n",
      "Non-trainable params: 0\n",
      "_________________________________________________________________\n"
     ]
    }
   ],
   "source": [
    "model.classifier.summary()"
   ]
  },
  {
   "cell_type": "markdown",
   "metadata": {
    "id": "CcM2EiRMVP93"
   },
   "source": [
    "Пример тестирования модели на части набора данных:"
   ]
  },
  {
   "cell_type": "code",
   "execution_count": 19,
   "metadata": {
    "colab": {
     "base_uri": "https://localhost:8080/"
    },
    "id": "I0AqmeLEKqrs",
    "outputId": "d07f34a3-58d0-451f-cb35-43bab19d3365"
   },
   "outputs": [
    {
     "name": "stdout",
     "output_type": "stream",
     "text": [
      "metrics for 10% of test:\n",
      "\t accuracy 0.9667:\n",
      "\t balanced accuracy 0.9641:\n"
     ]
    }
   ],
   "source": [
    "# evaluating model on 10% of test dataset\n",
    "pred_1, labels = model.test_on_dataset(d_test, limit=0.1)\n",
    "Metrics.print_all(labels, pred_1, '10% of test')"
   ]
  },
  {
   "cell_type": "markdown",
   "metadata": {
    "id": "mSwvHVVzVWZ5"
   },
   "source": [
    "Пример тестирования модели на полном наборе данных:"
   ]
  },
  {
   "cell_type": "code",
   "execution_count": 20,
   "metadata": {
    "colab": {
     "base_uri": "https://localhost:8080/"
    },
    "id": "mjI_sbMi3TMY",
    "outputId": "7acf8140-1545-4d7b-cc4b-0ba93e487200"
   },
   "outputs": [
    {
     "name": "stdout",
     "output_type": "stream",
     "text": [
      "metrics for test:\n",
      "\t accuracy 0.9551:\n",
      "\t balanced accuracy 0.9557:\n"
     ]
    }
   ],
   "source": [
    "# evaluating model on full test dataset (may take time)\n",
    "pred_2, labels = model.test_on_dataset(d_test)\n",
    "Metrics.print_all(labels, pred_2, 'test')"
   ]
  },
  {
   "cell_type": "markdown",
   "metadata": {
    "id": "kvyEHdxEB18o"
   },
   "source": [
    "Результат работы пайплайна обучения и тестирования выше тоже будет оцениваться. Поэтому не забудьте присылать на проверку ноутбук с выполнеными ячейками кода с демонстрациями метрик обучения, графиками и т.п. В этом пайплайне Вам необходимо продемонстрировать работу всех реализованных дополнений, улучшений и т.п.\n",
    "\n",
    "<font color=\"red\">\n",
    "Настоятельно рекомендуется после получения пайплайна с полными результатами обучения экспортировать ноутбук в pdf (файл -> печать) и прислать этот pdf вместе с самим ноутбуком.\n",
    "</font>"
   ]
  },
  {
   "cell_type": "markdown",
   "metadata": {
    "id": "RzSKAvVI6uCW"
   },
   "source": [
    "### Тестирование модели на других наборах данных\n",
    "\n",
    "Ваша модель должна поддерживать тестирование на других наборах данных. Для удобства, Вам предоставляется набор данных test_tiny, который представляет собой малую часть (2% изображений) набора test. Ниже приведен фрагмент кода, который будет осуществлять тестирование для оценивания Вашей модели на дополнительных тестовых наборах данных.\n",
    "\n",
    "<font color=\"red\">\n",
    "Прежде чем отсылать задание на проверку, убедитесь в работоспособности фрагмента кода ниже.\n",
    "</font>"
   ]
  },
  {
   "cell_type": "code",
   "execution_count": 22,
   "metadata": {
    "colab": {
     "base_uri": "https://localhost:8080/"
    },
    "id": "sdY3uTt87tqv",
    "outputId": "e5e6657d-d69e-4eec-adff-8e7b9372af19"
   },
   "outputs": [
    {
     "name": "stdout",
     "output_type": "stream",
     "text": [
      "Loading model best\n",
      "Loading dataset test_tiny-2 from npz.\n",
      "Done. Dataset test_tiny-2 consists of 90 images.\n",
      "metrics for test-tiny:\n",
      "\t accuracy 0.9667:\n",
      "\t balanced accuracy 0.9607:\n"
     ]
    }
   ],
   "source": [
    "final_model = Model()\n",
    "final_model.load('best')\n",
    "d_test_tiny = Dataset('test_tiny-2', PROJECT_DIR)\n",
    "pred, labels = model.test_on_dataset(d_test_tiny)\n",
    "Metrics.print_all(labels, pred, 'test-tiny')"
   ]
  },
  {
   "cell_type": "markdown",
   "metadata": {
    "id": "lPvyj4gscU10"
   },
   "source": [
    "Отмонтировать Google Drive."
   ]
  },
  {
   "cell_type": "code",
   "execution_count": null,
   "metadata": {
    "id": "NfX35zNSvFWn"
   },
   "outputs": [],
   "source": [
    "drive.flush_and_unmount()"
   ]
  },
  {
   "cell_type": "markdown",
   "metadata": {
    "id": "RMyDxCDCspcI"
   },
   "source": [
    "---\n",
    "# Дополнительные \"полезности\"\n",
    "\n",
    "Ниже приведены примеры использования различных функций и библиотек, которые могут быть полезны при выполнении данного практического задания."
   ]
  },
  {
   "cell_type": "markdown",
   "metadata": {
    "id": "VvLwSttCs1rB"
   },
   "source": [
    "### Измерение времени работы кода\n",
    "\n",
    "Измерять время работы какой-либо функции можно легко и непринужденно при помощи функции timeit из соответствующего модуля:"
   ]
  },
  {
   "cell_type": "code",
   "execution_count": null,
   "metadata": {
    "colab": {
     "base_uri": "https://localhost:8080/"
    },
    "id": "-HnLVhwE9C9S",
    "outputId": "6b5ce789-ebb9-4068-cea9-b1041dd16d4e"
   },
   "outputs": [
    {
     "name": "stdout",
     "output_type": "stream",
     "text": [
      "Function f is caluclated 128 times in 0.03538683599981596s.\n"
     ]
    }
   ],
   "source": [
    "import timeit\n",
    "\n",
    "def factorial(n):\n",
    "    res = 1\n",
    "    for i in range(1, n + 1):\n",
    "        res *= i\n",
    "    return res\n",
    "\n",
    "\n",
    "def f():\n",
    "    return factorial(n=1000)\n",
    "\n",
    "n_runs = 128\n",
    "print(f'Function f is caluclated {n_runs} times in {timeit.timeit(f, number=n_runs)}s.')"
   ]
  },
  {
   "cell_type": "markdown",
   "metadata": {
    "id": "fibGVEdguOOi"
   },
   "source": [
    "### Scikit-learn\n",
    "\n",
    "Для использования \"классических\" алгоритмов машинного обучения рекомендуется использовать библиотеку scikit-learn (https://scikit-learn.org/stable/). Пример классификации изображений цифр из набора данных MNIST при помощи классификатора SVM:"
   ]
  },
  {
   "cell_type": "code",
   "execution_count": null,
   "metadata": {
    "colab": {
     "base_uri": "https://localhost:8080/",
     "height": 1101
    },
    "id": "vXHnBzEfunAO",
    "outputId": "e8a38dde-238f-4af9-b1b6-bb86ee949574"
   },
   "outputs": [
    {
     "name": "stdout",
     "output_type": "stream",
     "text": [
      "Classification report for classifier SVC(C=1.0, break_ties=False, cache_size=200, class_weight=None, coef0=0.0,\n",
      "    decision_function_shape='ovr', degree=3, gamma=0.001, kernel='rbf',\n",
      "    max_iter=-1, probability=False, random_state=None, shrinking=True,\n",
      "    tol=0.001, verbose=False):\n",
      "              precision    recall  f1-score   support\n",
      "\n",
      "           0       1.00      0.99      0.99        88\n",
      "           1       0.99      0.97      0.98        91\n",
      "           2       0.99      0.99      0.99        86\n",
      "           3       0.98      0.87      0.92        91\n",
      "           4       0.99      0.96      0.97        92\n",
      "           5       0.95      0.97      0.96        91\n",
      "           6       0.99      0.99      0.99        91\n",
      "           7       0.96      0.99      0.97        89\n",
      "           8       0.94      1.00      0.97        88\n",
      "           9       0.93      0.98      0.95        92\n",
      "\n",
      "    accuracy                           0.97       899\n",
      "   macro avg       0.97      0.97      0.97       899\n",
      "weighted avg       0.97      0.97      0.97       899\n",
      "\n",
      "\n",
      "Confusion matrix:\n",
      "[[87  0  0  0  1  0  0  0  0  0]\n",
      " [ 0 88  1  0  0  0  0  0  1  1]\n",
      " [ 0  0 85  1  0  0  0  0  0  0]\n",
      " [ 0  0  0 79  0  3  0  4  5  0]\n",
      " [ 0  0  0  0 88  0  0  0  0  4]\n",
      " [ 0  0  0  0  0 88  1  0  0  2]\n",
      " [ 0  1  0  0  0  0 90  0  0  0]\n",
      " [ 0  0  0  0  0  1  0 88  0  0]\n",
      " [ 0  0  0  0  0  0  0  0 88  0]\n",
      " [ 0  0  0  1  0  1  0  0  0 90]]\n"
     ]
    },
    {
     "data": {
      "image/png": "[encoded data removed]",
      "text/plain": [
       "<Figure size 432x288 with 8 Axes>"
      ]
     },
     "metadata": {
      "needs_background": "light",
      "tags": []
     },
     "output_type": "display_data"
    },
    {
     "data": {
      "image/png": "[encoded data removed]",
      "text/plain": [
       "<Figure size 432x288 with 2 Axes>"
      ]
     },
     "metadata": {
      "needs_background": "light",
      "tags": []
     },
     "output_type": "display_data"
    }
   ],
   "source": [
    "# Standard scientific Python imports\n",
    "import matplotlib.pyplot as plt\n",
    "\n",
    "# Import datasets, classifiers and performance metrics\n",
    "from sklearn import datasets, svm, metrics\n",
    "from sklearn.model_selection import train_test_split\n",
    "\n",
    "# The digits dataset\n",
    "digits = datasets.load_digits()\n",
    "\n",
    "# The data that we are interested in is made of 8x8 images of digits, let's\n",
    "# have a look at the first 4 images, stored in the `images` attribute of the\n",
    "# dataset.  If we were working from image files, we could load them using\n",
    "# matplotlib.pyplot.imread.  Note that each image must have the same size. For these\n",
    "# images, we know which digit they represent: it is given in the 'target' of\n",
    "# the dataset.\n",
    "_, axes = plt.subplots(2, 4)\n",
    "images_and_labels = list(zip(digits.images, digits.target))\n",
    "for ax, (image, label) in zip(axes[0, :], images_and_labels[:4]):\n",
    "    ax.set_axis_off()\n",
    "    ax.imshow(image, cmap=plt.cm.gray_r, interpolation='nearest')\n",
    "    ax.set_title('Training: %i' % label)\n",
    "\n",
    "# To apply a classifier on this data, we need to flatten the image, to\n",
    "# turn the data in a (samples, feature) matrix:\n",
    "n_samples = len(digits.images)\n",
    "data = digits.images.reshape((n_samples, -1))\n",
    "\n",
    "# Create a classifier: a support vector classifier\n",
    "classifier = svm.SVC(gamma=0.001)\n",
    "\n",
    "# Split data into train and test subsets\n",
    "X_train, X_test, y_train, y_test = train_test_split(\n",
    "    data, digits.target, test_size=0.5, shuffle=False)\n",
    "\n",
    "# We learn the digits on the first half of the digits\n",
    "classifier.fit(X_train, y_train)\n",
    "\n",
    "# Now predict the value of the digit on the second half:\n",
    "predicted = classifier.predict(X_test)\n",
    "\n",
    "images_and_predictions = list(zip(digits.images[n_samples // 2:], predicted))\n",
    "for ax, (image, prediction) in zip(axes[1, :], images_and_predictions[:4]):\n",
    "    ax.set_axis_off()\n",
    "    ax.imshow(image, cmap=plt.cm.gray_r, interpolation='nearest')\n",
    "    ax.set_title('Prediction: %i' % prediction)\n",
    "\n",
    "print(\"Classification report for classifier %s:\\n%s\\n\"\n",
    "      % (classifier, metrics.classification_report(y_test, predicted)))\n",
    "disp = metrics.plot_confusion_matrix(classifier, X_test, y_test)\n",
    "disp.figure_.suptitle(\"Confusion Matrix\")\n",
    "print(\"Confusion matrix:\\n%s\" % disp.confusion_matrix)\n",
    "\n",
    "plt.show()"
   ]
  },
  {
   "cell_type": "markdown",
   "metadata": {
    "id": "Uu3Dny5zxcVy"
   },
   "source": [
    "### Scikit-image\n",
    "\n",
    "Реализовывать различные операции для работы с изображениями можно как самостоятельно, работая с массивами numpy, так и используя специализированные библиотеки, например, scikit-image (https://scikit-image.org/). Ниже приведен пример использования Canny edge detector."
   ]
  },
  {
   "cell_type": "code",
   "execution_count": null,
   "metadata": {
    "colab": {
     "base_uri": "https://localhost:8080/",
     "height": 192
    },
    "id": "5TZvy_d7xc0B",
    "outputId": "013d39c1-59ce-45ce-aa17-1db79b03ff77"
   },
   "outputs": [
    {
     "data": {
      "image/png": "[encoded data removed]",
      "text/plain": [
       "<Figure size 576x216 with 3 Axes>"
      ]
     },
     "metadata": {
      "needs_background": "light",
      "tags": []
     },
     "output_type": "display_data"
    }
   ],
   "source": [
    "import numpy as np\n",
    "import matplotlib.pyplot as plt\n",
    "from scipy import ndimage as ndi\n",
    "\n",
    "from skimage import feature\n",
    "\n",
    "\n",
    "# Generate noisy image of a square\n",
    "im = np.zeros((128, 128))\n",
    "im[32:-32, 32:-32] = 1\n",
    "\n",
    "im = ndi.rotate(im, 15, mode='constant')\n",
    "im = ndi.gaussian_filter(im, 4)\n",
    "im += 0.2 * np.random.random(im.shape)\n",
    "\n",
    "# Compute the Canny filter for two values of sigma\n",
    "edges1 = feature.canny(im)\n",
    "edges2 = feature.canny(im, sigma=3)\n",
    "\n",
    "# display results\n",
    "fig, (ax1, ax2, ax3) = plt.subplots(nrows=1, ncols=3, figsize=(8, 3),\n",
    "                                    sharex=True, sharey=True)\n",
    "\n",
    "ax1.imshow(im, cmap=plt.cm.gray)\n",
    "ax1.axis('off')\n",
    "ax1.set_title('noisy image', fontsize=20)\n",
    "\n",
    "ax2.imshow(edges1, cmap=plt.cm.gray)\n",
    "ax2.axis('off')\n",
    "ax2.set_title(r'Canny filter, $\\sigma=1$', fontsize=20)\n",
    "\n",
    "ax3.imshow(edges2, cmap=plt.cm.gray)\n",
    "ax3.axis('off')\n",
    "ax3.set_title(r'Canny filter, $\\sigma=3$', fontsize=20)\n",
    "\n",
    "fig.tight_layout()\n",
    "\n",
    "plt.show()"
   ]
  },
  {
   "cell_type": "markdown",
   "metadata": {
    "id": "hiEWhGUQRGoH"
   },
   "source": [
    "### Tensorflow 2\n",
    "\n",
    "Для создания и обучения нейросетевых моделей можно использовать фреймворк глубокого обучения Tensorflow 2. Ниже приведен пример простейшей нейроной сети, использующейся для классификации изображений из набора данных MNIST."
   ]
  },
  {
   "cell_type": "code",
   "execution_count": null,
   "metadata": {
    "colab": {
     "base_uri": "https://localhost:8080/"
    },
    "id": "kDwLG7A1ReNy",
    "outputId": "dff8f73a-697a-4aa9-96d1-cceb0118d621"
   },
   "outputs": [
    {
     "name": "stdout",
     "output_type": "stream",
     "text": [
      "Downloading data from https://storage.googleapis.com/tensorflow/tf-keras-datasets/mnist.npz\n",
      "11493376/11490434 [==============================] - 0s 0us/step\n",
      "Epoch 1/5\n",
      "1875/1875 [==============================] - 3s 2ms/step - loss: 0.3014 - accuracy: 0.9136\n",
      "Epoch 2/5\n",
      "1875/1875 [==============================] - 3s 2ms/step - loss: 0.1446 - accuracy: 0.9571\n",
      "Epoch 3/5\n",
      "1875/1875 [==============================] - 3s 2ms/step - loss: 0.1077 - accuracy: 0.9671\n",
      "Epoch 4/5\n",
      "1875/1875 [==============================] - 3s 2ms/step - loss: 0.0864 - accuracy: 0.9735\n",
      "Epoch 5/5\n",
      "1875/1875 [==============================] - 3s 2ms/step - loss: 0.0731 - accuracy: 0.9773\n",
      "313/313 - 0s - loss: 0.0787 - accuracy: 0.9760\n"
     ]
    },
    {
     "data": {
      "text/plain": [
       "[0.07866337150335312, 0.9760000109672546]"
      ]
     },
     "execution_count": 55,
     "metadata": {
      "tags": []
     },
     "output_type": "execute_result"
    }
   ],
   "source": [
    "# Install TensorFlow\n",
    "\n",
    "import tensorflow as tf\n",
    "\n",
    "mnist = tf.keras.datasets.mnist\n",
    "\n",
    "(x_train, y_train), (x_test, y_test) = mnist.load_data()\n",
    "x_train, x_test = x_train / 255.0, x_test / 255.0\n",
    "\n",
    "model = tf.keras.models.Sequential([\n",
    "  tf.keras.layers.Flatten(input_shape=(28, 28)),\n",
    "  tf.keras.layers.Dense(128, activation='relu'),\n",
    "  tf.keras.layers.Dropout(0.2),\n",
    "  tf.keras.layers.Dense(10, activation='softmax')\n",
    "])\n",
    "\n",
    "model.compile(optimizer='adam',\n",
    "              loss='sparse_categorical_crossentropy',\n",
    "              metrics=['accuracy'])\n",
    "\n",
    "model.fit(x_train, y_train, epochs=5)\n",
    "\n",
    "model.evaluate(x_test,  y_test, verbose=2)"
   ]
  },
  {
   "cell_type": "markdown",
   "metadata": {
    "id": "IbvktmLwRu8g"
   },
   "source": [
    "<font color=\"red\">\n",
    "Для эффективной работы с моделями глубокого обучения убедитесь в том, что в текущей среде Google Colab используется аппаратный ускоритель GPU или TPU. Для смены среды выберите \"среда выполнения\" -> \"сменить среду выполнения\".\n",
    "</font>"
   ]
  },
  {
   "cell_type": "markdown",
   "metadata": {
    "id": "nJVNOOU9Sjyf"
   },
   "source": [
    "Большое количество туториалов и примеров с кодом на Tensorflow 2 можно найти на официальном сайте https://www.tensorflow.org/tutorials?hl=ru. "
   ]
  },
  {
   "cell_type": "markdown",
   "metadata": {
    "id": "GVPs3pYpS0U1"
   },
   "source": [
    "Также, Вам может понадобиться написать собственный генератор данных для Tensorflow 2. Скорее всего он будет достаточно простым, и его легко можно будет реализовать, используя официальную документацию TensorFlow 2. Но, на всякий случай (если не удлось сразу разобраться или хочется вникнуть в тему более глубоко), можете посмотреть следующий отличный туториал: https://stanford.edu/~shervine/blog/keras-how-to-generate-data-on-the-fly."
   ]
  },
  {
   "cell_type": "markdown",
   "metadata": {
    "id": "lwI-T0IXyN84"
   },
   "source": [
    "### Numba\n",
    "\n",
    "В некоторых ситуациях, при ручных реализациях графовых алгоритмов, выполнение многократных вложенных циклов for в python можно существенно ускорить, используя JIT-компилятор Numba (https://numba.pydata.org/).\n",
    "Примеры использования Numba в Google Colab можно найти тут:\n",
    "1. https://colab.research.google.com/github/cbernet/maldives/blob/master/numba/numba_cuda.ipynb\n",
    "2. https://colab.research.google.com/github/evaneschneider/parallel-programming/blob/master/COMPASS_gpu_intro.ipynb \n",
    "\n",
    "> Пожалуйста, если Вы решили использовать Numba для решения этого практического задания, еще раз подумайте, нужно ли это Вам, и есть ли возможность реализовать требуемую функциональность иным способом. Используйте Numba только при реальной необходимости.\n",
    "\n"
   ]
  },
  {
   "cell_type": "markdown",
   "metadata": {
    "id": "BxAJ00A76LcF"
   },
   "source": [
    "### Работа с zip архивами в Google Drive\n",
    "\n",
    "Запаковка и распаковка zip архивов может пригодиться при сохранении и загрузки Вашей модели. Ниже приведен фрагмент кода, иллюстрирующий помещение нескольких файлов в zip архив с последующим чтением файлов из него. Все действия с директориями, файлами и архивами должны осущетвляться с примонтированным Google Drive.\n"
   ]
  },
  {
   "cell_type": "markdown",
   "metadata": {
    "id": "ZJiKndOpPu_e"
   },
   "source": [
    "Создадим 2 изображения, поместим их в директорию tmp внутри PROJECT_DIR, запакуем директорию tmp в архив tmp.zip."
   ]
  },
  {
   "cell_type": "code",
   "execution_count": null,
   "metadata": {
    "colab": {
     "base_uri": "https://localhost:8080/"
    },
    "id": "CRwgPtv-6nMP",
    "outputId": "8cbdbd6a-5d7f-49b3-f8b6-9006849f2d70"
   },
   "outputs": [
    {
     "name": "stdout",
     "output_type": "stream",
     "text": [
      "/content/drive/MyDrive/dev/prak_nn_1_data\n",
      "  adding: tmp/ (stored 0%)\n",
      "  adding: tmp/img1.png (stored 0%)\n",
      "  adding: tmp/img2.png (stored 0%)\n"
     ]
    }
   ],
   "source": [
    "arr1 = np.random.rand(100, 100, 3) * 255\n",
    "arr2 = np.random.rand(100, 100, 3) * 255\n",
    "\n",
    "img1 = Image.fromarray(arr1.astype('uint8'))\n",
    "img2 = Image.fromarray(arr2.astype('uint8'))\n",
    "\n",
    "p = \"/content/drive/MyDrive/\" + PROJECT_DIR\n",
    "\n",
    "if not (Path(p) / 'tmp').exists():\n",
    "    (Path(p) / 'tmp').mkdir()\n",
    "\n",
    "img1.save(str(Path(p) / 'tmp' / 'img1.png'))\n",
    "img2.save(str(Path(p) / 'tmp' / 'img2.png'))\n",
    "\n",
    "%cd $p\n",
    "!zip -r \"tmp.zip\" \"tmp\""
   ]
  },
  {
   "cell_type": "markdown",
   "metadata": {
    "id": "MykrBSWNQQlq"
   },
   "source": [
    "Распакуем архив tmp.zip в директорию tmp2 в PROJECT_DIR. Теперь внутри директории tmp2 содержится директория tmp, внутри которой находятся 2 изображения."
   ]
  },
  {
   "cell_type": "code",
   "execution_count": null,
   "metadata": {
    "colab": {
     "base_uri": "https://localhost:8080/"
    },
    "id": "CwSWrYIWMAus",
    "outputId": "a2d4a9c7-ba0b-4373-ba87-3cae7ab22e06"
   },
   "outputs": [
    {
     "name": "stdout",
     "output_type": "stream",
     "text": [
      "/content/drive/MyDrive/dev/prak_nn_1_data\n"
     ]
    }
   ],
   "source": [
    "p = \"/content/drive/MyDrive/\" + PROJECT_DIR\n",
    "%cd $p\n",
    "!unzip -uq \"tmp.zip\" -d \"tmp2\""
   ]
  }
 ],
 "metadata": {
  "accelerator": "GPU",
  "colab": {
   "collapsed_sections": [],
   "name": "problem_1_starter-2.ipynb",
   "provenance": []
  },
  "kernelspec": {
   "display_name": "Python 3",
   "language": "python",
   "name": "python3"
  },
  "language_info": {
   "codemirror_mode": {
    "name": "ipython",
    "version": 3
   },
   "file_extension": ".py",
   "mimetype": "text/x-python",
   "name": "python",
   "nbconvert_exporter": "python",
   "pygments_lexer": "ipython3",
   "version": "3.7.9"
  }
 },
 "nbformat": 4,
 "nbformat_minor": 1
}
